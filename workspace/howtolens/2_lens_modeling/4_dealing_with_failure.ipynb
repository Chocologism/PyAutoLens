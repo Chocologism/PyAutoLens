{
 "cells": [
  {
   "cell_type": "code",
   "execution_count": 1,
   "metadata": {
    "collapsed": true
   },
   "outputs": [
    {
     "ename": "FileNotFoundError",
     "evalue": "[Errno 2] No such file or directory: '/home/jammy/PyCharm/Projects/AutoLens/howtolens/2_lens_modeling/data/3_realism_and_complexity/image.fits'",
     "traceback": [
      "\u001b[0;31m---------------------------------------------------------------------------\u001b[0m",
      "\u001b[0;31mFileNotFoundError\u001b[0m                         Traceback (most recent call last)",
      "\u001b[0;32m<ipython-input-1-af685f6039cf>\u001b[0m in \u001b[0;36m<module>\u001b[0;34m()\u001b[0m\n\u001b[1;32m     19\u001b[0m image = im.load_imaging_from_path(image_path=path + '/data/3_realism_and_complexity/image.fits',\n\u001b[1;32m     20\u001b[0m                                   \u001b[0mnoise_map_path\u001b[0m\u001b[0;34m=\u001b[0m\u001b[0mpath\u001b[0m\u001b[0;34m+\u001b[0m\u001b[0;34m'/data/3_realism_and_complexity/noise_map.fits'\u001b[0m\u001b[0;34m,\u001b[0m\u001b[0;34m\u001b[0m\u001b[0m\n\u001b[0;32m---> 21\u001b[0;31m                                   psf_path=path + '/data/3_realism_and_complexity/psf.fits', pixel_scale=0.1)\n\u001b[0m\u001b[1;32m     22\u001b[0m \u001b[0;34m\u001b[0m\u001b[0m\n\u001b[1;32m     23\u001b[0m \u001b[0;31m# Even with my custom config files - the non-linear searches will take a bit of time to run in this tutorial. Whilst you\u001b[0m\u001b[0;34m\u001b[0m\u001b[0;34m\u001b[0m\u001b[0m\n",
      "\u001b[0;32m~/PyCharm/Projects/AutoLens/autolens/imaging/image.py\u001b[0m in \u001b[0;36mload_imaging_from_path\u001b[0;34m(image_path, noise_map_path, psf_path, pixel_scale, psf_trimmed_shape)\u001b[0m\n\u001b[1;32m    492\u001b[0m \u001b[0;34m\u001b[0m\u001b[0m\n\u001b[1;32m    493\u001b[0m \u001b[0;32mdef\u001b[0m \u001b[0mload_imaging_from_path\u001b[0m\u001b[0;34m(\u001b[0m\u001b[0mimage_path\u001b[0m\u001b[0;34m,\u001b[0m \u001b[0mnoise_map_path\u001b[0m\u001b[0;34m,\u001b[0m \u001b[0mpsf_path\u001b[0m\u001b[0;34m,\u001b[0m \u001b[0mpixel_scale\u001b[0m\u001b[0;34m,\u001b[0m \u001b[0mpsf_trimmed_shape\u001b[0m\u001b[0;34m=\u001b[0m\u001b[0;32mNone\u001b[0m\u001b[0;34m)\u001b[0m\u001b[0;34m:\u001b[0m\u001b[0;34m\u001b[0m\u001b[0m\n\u001b[0;32m--> 494\u001b[0;31m     \u001b[0mdata\u001b[0m \u001b[0;34m=\u001b[0m \u001b[0mScaledSquarePixelArray\u001b[0m\u001b[0;34m.\u001b[0m\u001b[0mfrom_fits\u001b[0m\u001b[0;34m(\u001b[0m\u001b[0mfile_path\u001b[0m\u001b[0;34m=\u001b[0m\u001b[0mimage_path\u001b[0m\u001b[0;34m,\u001b[0m \u001b[0mhdu\u001b[0m\u001b[0;34m=\u001b[0m\u001b[0;36m0\u001b[0m\u001b[0;34m,\u001b[0m \u001b[0mpixel_scale\u001b[0m\u001b[0;34m=\u001b[0m\u001b[0mpixel_scale\u001b[0m\u001b[0;34m)\u001b[0m\u001b[0;34m\u001b[0m\u001b[0m\n\u001b[0m\u001b[1;32m    495\u001b[0m     \u001b[0mnoise\u001b[0m \u001b[0;34m=\u001b[0m \u001b[0mScaledSquarePixelArray\u001b[0m\u001b[0;34m.\u001b[0m\u001b[0mfrom_fits\u001b[0m\u001b[0;34m(\u001b[0m\u001b[0mfile_path\u001b[0m\u001b[0;34m=\u001b[0m\u001b[0mnoise_map_path\u001b[0m\u001b[0;34m,\u001b[0m \u001b[0mhdu\u001b[0m\u001b[0;34m=\u001b[0m\u001b[0;36m0\u001b[0m\u001b[0;34m,\u001b[0m \u001b[0mpixel_scale\u001b[0m\u001b[0;34m=\u001b[0m\u001b[0mpixel_scale\u001b[0m\u001b[0;34m)\u001b[0m\u001b[0;34m\u001b[0m\u001b[0m\n\u001b[1;32m    496\u001b[0m     \u001b[0mpsf\u001b[0m \u001b[0;34m=\u001b[0m \u001b[0mPSF\u001b[0m\u001b[0;34m.\u001b[0m\u001b[0mfrom_fits_with_scale\u001b[0m\u001b[0;34m(\u001b[0m\u001b[0mfile_path\u001b[0m\u001b[0;34m=\u001b[0m\u001b[0mpsf_path\u001b[0m\u001b[0;34m,\u001b[0m \u001b[0mhdu\u001b[0m\u001b[0;34m=\u001b[0m\u001b[0;36m0\u001b[0m\u001b[0;34m,\u001b[0m \u001b[0mpixel_scale\u001b[0m\u001b[0;34m=\u001b[0m\u001b[0mpixel_scale\u001b[0m\u001b[0;34m)\u001b[0m\u001b[0;34m\u001b[0m\u001b[0m\n",
      "\u001b[0;32m~/PyCharm/Projects/AutoLens/autolens/imaging/scaled_array.py\u001b[0m in \u001b[0;36mfrom_fits\u001b[0;34m(cls, file_path, hdu, pixel_scale)\u001b[0m\n\u001b[1;32m    270\u001b[0m             \u001b[0mThe\u001b[0m \u001b[0marc\u001b[0m\u001b[0;34m-\u001b[0m\u001b[0msecond\u001b[0m \u001b[0mto\u001b[0m \u001b[0mpixel\u001b[0m \u001b[0mconversion\u001b[0m \u001b[0mfactor\u001b[0m \u001b[0mof\u001b[0m \u001b[0meach\u001b[0m \u001b[0mpixel\u001b[0m\u001b[0;34m.\u001b[0m\u001b[0;34m\u001b[0m\u001b[0m\n\u001b[1;32m    271\u001b[0m         \"\"\"\n\u001b[0;32m--> 272\u001b[0;31m         \u001b[0;32mreturn\u001b[0m \u001b[0mcls\u001b[0m\u001b[0;34m(\u001b[0m\u001b[0mimaging_util\u001b[0m\u001b[0;34m.\u001b[0m\u001b[0mnumpy_array_from_fits\u001b[0m\u001b[0;34m(\u001b[0m\u001b[0mfile_path\u001b[0m\u001b[0;34m,\u001b[0m \u001b[0mhdu\u001b[0m\u001b[0;34m)\u001b[0m\u001b[0;34m,\u001b[0m \u001b[0mpixel_scale\u001b[0m\u001b[0;34m)\u001b[0m\u001b[0;34m\u001b[0m\u001b[0m\n\u001b[0m\u001b[1;32m    273\u001b[0m \u001b[0;34m\u001b[0m\u001b[0m\n\u001b[1;32m    274\u001b[0m     \u001b[0;34m@\u001b[0m\u001b[0mclassmethod\u001b[0m\u001b[0;34m\u001b[0m\u001b[0m\n",
      "\u001b[0;32m~/PyCharm/Projects/AutoLens/autolens/imaging/imaging_util.py\u001b[0m in \u001b[0;36mnumpy_array_from_fits\u001b[0;34m(path, hdu)\u001b[0m\n\u001b[1;32m    621\u001b[0m \u001b[0;34m\u001b[0m\u001b[0m\n\u001b[1;32m    622\u001b[0m \u001b[0;32mdef\u001b[0m \u001b[0mnumpy_array_from_fits\u001b[0m\u001b[0;34m(\u001b[0m\u001b[0mpath\u001b[0m\u001b[0;34m,\u001b[0m \u001b[0mhdu\u001b[0m\u001b[0;34m)\u001b[0m\u001b[0;34m:\u001b[0m\u001b[0;34m\u001b[0m\u001b[0m\n\u001b[0;32m--> 623\u001b[0;31m     \u001b[0mhdu_list\u001b[0m \u001b[0;34m=\u001b[0m \u001b[0mfits\u001b[0m\u001b[0;34m.\u001b[0m\u001b[0mopen\u001b[0m\u001b[0;34m(\u001b[0m\u001b[0mpath\u001b[0m\u001b[0;34m)\u001b[0m\u001b[0;34m\u001b[0m\u001b[0m\n\u001b[0m\u001b[1;32m    624\u001b[0m     \u001b[0;32mreturn\u001b[0m \u001b[0mnp\u001b[0m\u001b[0;34m.\u001b[0m\u001b[0mflipud\u001b[0m\u001b[0;34m(\u001b[0m\u001b[0mnp\u001b[0m\u001b[0;34m.\u001b[0m\u001b[0marray\u001b[0m\u001b[0;34m(\u001b[0m\u001b[0mhdu_list\u001b[0m\u001b[0;34m[\u001b[0m\u001b[0mhdu\u001b[0m\u001b[0;34m]\u001b[0m\u001b[0;34m.\u001b[0m\u001b[0mdata\u001b[0m\u001b[0;34m)\u001b[0m\u001b[0;34m)\u001b[0m\u001b[0;34m\u001b[0m\u001b[0m\n\u001b[1;32m    625\u001b[0m \u001b[0;34m\u001b[0m\u001b[0m\n",
      "\u001b[0;32m~/PyCharm/VirtualEnvs/AutoLensPy3/lib/python3.6/site-packages/astropy/io/fits/hdu/hdulist.py\u001b[0m in \u001b[0;36mfitsopen\u001b[0;34m(name, mode, memmap, save_backup, cache, lazy_load_hdus, **kwargs)\u001b[0m\n\u001b[1;32m    162\u001b[0m \u001b[0;34m\u001b[0m\u001b[0m\n\u001b[1;32m    163\u001b[0m     return HDUList.fromfile(name, mode, memmap, save_backup, cache,\n\u001b[0;32m--> 164\u001b[0;31m                             lazy_load_hdus, **kwargs)\n\u001b[0m\u001b[1;32m    165\u001b[0m \u001b[0;34m\u001b[0m\u001b[0m\n\u001b[1;32m    166\u001b[0m \u001b[0;34m\u001b[0m\u001b[0m\n",
      "\u001b[0;32m~/PyCharm/VirtualEnvs/AutoLensPy3/lib/python3.6/site-packages/astropy/io/fits/hdu/hdulist.py\u001b[0m in \u001b[0;36mfromfile\u001b[0;34m(cls, fileobj, mode, memmap, save_backup, cache, lazy_load_hdus, **kwargs)\u001b[0m\n\u001b[1;32m    400\u001b[0m         return cls._readfrom(fileobj=fileobj, mode=mode, memmap=memmap,\n\u001b[1;32m    401\u001b[0m                              \u001b[0msave_backup\u001b[0m\u001b[0;34m=\u001b[0m\u001b[0msave_backup\u001b[0m\u001b[0;34m,\u001b[0m \u001b[0mcache\u001b[0m\u001b[0;34m=\u001b[0m\u001b[0mcache\u001b[0m\u001b[0;34m,\u001b[0m\u001b[0;34m\u001b[0m\u001b[0m\n\u001b[0;32m--> 402\u001b[0;31m                              lazy_load_hdus=lazy_load_hdus, **kwargs)\n\u001b[0m\u001b[1;32m    403\u001b[0m \u001b[0;34m\u001b[0m\u001b[0m\n\u001b[1;32m    404\u001b[0m     \u001b[0;34m@\u001b[0m\u001b[0mclassmethod\u001b[0m\u001b[0;34m\u001b[0m\u001b[0m\n",
      "\u001b[0;32m~/PyCharm/VirtualEnvs/AutoLensPy3/lib/python3.6/site-packages/astropy/io/fits/hdu/hdulist.py\u001b[0m in \u001b[0;36m_readfrom\u001b[0;34m(cls, fileobj, data, mode, memmap, save_backup, cache, lazy_load_hdus, **kwargs)\u001b[0m\n\u001b[1;32m    984\u001b[0m             \u001b[0;32mif\u001b[0m \u001b[0;32mnot\u001b[0m \u001b[0misinstance\u001b[0m\u001b[0;34m(\u001b[0m\u001b[0mfileobj\u001b[0m\u001b[0;34m,\u001b[0m \u001b[0m_File\u001b[0m\u001b[0;34m)\u001b[0m\u001b[0;34m:\u001b[0m\u001b[0;34m\u001b[0m\u001b[0m\n\u001b[1;32m    985\u001b[0m                 \u001b[0;31m# instantiate a FITS file object (ffo)\u001b[0m\u001b[0;34m\u001b[0m\u001b[0;34m\u001b[0m\u001b[0m\n\u001b[0;32m--> 986\u001b[0;31m                 \u001b[0mfileobj\u001b[0m \u001b[0;34m=\u001b[0m \u001b[0m_File\u001b[0m\u001b[0;34m(\u001b[0m\u001b[0mfileobj\u001b[0m\u001b[0;34m,\u001b[0m \u001b[0mmode\u001b[0m\u001b[0;34m=\u001b[0m\u001b[0mmode\u001b[0m\u001b[0;34m,\u001b[0m \u001b[0mmemmap\u001b[0m\u001b[0;34m=\u001b[0m\u001b[0mmemmap\u001b[0m\u001b[0;34m,\u001b[0m \u001b[0mcache\u001b[0m\u001b[0;34m=\u001b[0m\u001b[0mcache\u001b[0m\u001b[0;34m)\u001b[0m\u001b[0;34m\u001b[0m\u001b[0m\n\u001b[0m\u001b[1;32m    987\u001b[0m             \u001b[0;31m# The Astropy mode is determined by the _File initializer if the\u001b[0m\u001b[0;34m\u001b[0m\u001b[0;34m\u001b[0m\u001b[0m\n\u001b[1;32m    988\u001b[0m             \u001b[0;31m# supplied mode was None\u001b[0m\u001b[0;34m\u001b[0m\u001b[0;34m\u001b[0m\u001b[0m\n",
      "\u001b[0;32m~/PyCharm/VirtualEnvs/AutoLensPy3/lib/python3.6/site-packages/astropy/utils/decorators.py\u001b[0m in \u001b[0;36mwrapper\u001b[0;34m(*args, **kwargs)\u001b[0m\n\u001b[1;32m    485\u001b[0m                         \u001b[0;31m# one with the name of the new argument to the function\u001b[0m\u001b[0;34m\u001b[0m\u001b[0;34m\u001b[0m\u001b[0m\n\u001b[1;32m    486\u001b[0m                         \u001b[0mkwargs\u001b[0m\u001b[0;34m[\u001b[0m\u001b[0mnew_name\u001b[0m\u001b[0;34m[\u001b[0m\u001b[0mi\u001b[0m\u001b[0;34m]\u001b[0m\u001b[0;34m]\u001b[0m \u001b[0;34m=\u001b[0m \u001b[0mvalue\u001b[0m\u001b[0;34m\u001b[0m\u001b[0m\n\u001b[0;32m--> 487\u001b[0;31m             \u001b[0;32mreturn\u001b[0m \u001b[0mfunction\u001b[0m\u001b[0;34m(\u001b[0m\u001b[0;34m*\u001b[0m\u001b[0margs\u001b[0m\u001b[0;34m,\u001b[0m \u001b[0;34m**\u001b[0m\u001b[0mkwargs\u001b[0m\u001b[0;34m)\u001b[0m\u001b[0;34m\u001b[0m\u001b[0m\n\u001b[0m\u001b[1;32m    488\u001b[0m \u001b[0;34m\u001b[0m\u001b[0m\n\u001b[1;32m    489\u001b[0m         \u001b[0;32mreturn\u001b[0m \u001b[0mwrapper\u001b[0m\u001b[0;34m\u001b[0m\u001b[0m\n",
      "\u001b[0;32m~/PyCharm/VirtualEnvs/AutoLensPy3/lib/python3.6/site-packages/astropy/io/fits/file.py\u001b[0m in \u001b[0;36m__init__\u001b[0;34m(self, fileobj, mode, memmap, overwrite, cache)\u001b[0m\n\u001b[1;32m    173\u001b[0m             \u001b[0mself\u001b[0m\u001b[0;34m.\u001b[0m\u001b[0m_open_fileobj\u001b[0m\u001b[0;34m(\u001b[0m\u001b[0mfileobj\u001b[0m\u001b[0;34m,\u001b[0m \u001b[0mmode\u001b[0m\u001b[0;34m,\u001b[0m \u001b[0moverwrite\u001b[0m\u001b[0;34m)\u001b[0m\u001b[0;34m\u001b[0m\u001b[0m\n\u001b[1;32m    174\u001b[0m         \u001b[0;32melif\u001b[0m \u001b[0misinstance\u001b[0m\u001b[0;34m(\u001b[0m\u001b[0mfileobj\u001b[0m\u001b[0;34m,\u001b[0m \u001b[0mstr\u001b[0m\u001b[0;34m)\u001b[0m\u001b[0;34m:\u001b[0m\u001b[0;34m\u001b[0m\u001b[0m\n\u001b[0;32m--> 175\u001b[0;31m             \u001b[0mself\u001b[0m\u001b[0;34m.\u001b[0m\u001b[0m_open_filename\u001b[0m\u001b[0;34m(\u001b[0m\u001b[0mfileobj\u001b[0m\u001b[0;34m,\u001b[0m \u001b[0mmode\u001b[0m\u001b[0;34m,\u001b[0m \u001b[0moverwrite\u001b[0m\u001b[0;34m)\u001b[0m\u001b[0;34m\u001b[0m\u001b[0m\n\u001b[0m\u001b[1;32m    176\u001b[0m         \u001b[0;32melse\u001b[0m\u001b[0;34m:\u001b[0m\u001b[0;34m\u001b[0m\u001b[0m\n\u001b[1;32m    177\u001b[0m             \u001b[0mself\u001b[0m\u001b[0;34m.\u001b[0m\u001b[0m_open_filelike\u001b[0m\u001b[0;34m(\u001b[0m\u001b[0mfileobj\u001b[0m\u001b[0;34m,\u001b[0m \u001b[0mmode\u001b[0m\u001b[0;34m,\u001b[0m \u001b[0moverwrite\u001b[0m\u001b[0;34m)\u001b[0m\u001b[0;34m\u001b[0m\u001b[0m\n",
      "\u001b[0;32m~/PyCharm/VirtualEnvs/AutoLensPy3/lib/python3.6/site-packages/astropy/io/fits/file.py\u001b[0m in \u001b[0;36m_open_filename\u001b[0;34m(self, filename, mode, overwrite)\u001b[0m\n\u001b[1;32m    526\u001b[0m \u001b[0;34m\u001b[0m\u001b[0m\n\u001b[1;32m    527\u001b[0m         \u001b[0;32mif\u001b[0m \u001b[0;32mnot\u001b[0m \u001b[0mself\u001b[0m\u001b[0;34m.\u001b[0m\u001b[0m_try_read_compressed\u001b[0m\u001b[0;34m(\u001b[0m\u001b[0mself\u001b[0m\u001b[0;34m.\u001b[0m\u001b[0mname\u001b[0m\u001b[0;34m,\u001b[0m \u001b[0mmagic\u001b[0m\u001b[0;34m,\u001b[0m \u001b[0mmode\u001b[0m\u001b[0;34m,\u001b[0m \u001b[0mext\u001b[0m\u001b[0;34m=\u001b[0m\u001b[0mext\u001b[0m\u001b[0;34m)\u001b[0m\u001b[0;34m:\u001b[0m\u001b[0;34m\u001b[0m\u001b[0m\n\u001b[0;32m--> 528\u001b[0;31m             \u001b[0mself\u001b[0m\u001b[0;34m.\u001b[0m\u001b[0m_file\u001b[0m \u001b[0;34m=\u001b[0m \u001b[0mfileobj_open\u001b[0m\u001b[0;34m(\u001b[0m\u001b[0mself\u001b[0m\u001b[0;34m.\u001b[0m\u001b[0mname\u001b[0m\u001b[0;34m,\u001b[0m \u001b[0mIO_FITS_MODES\u001b[0m\u001b[0;34m[\u001b[0m\u001b[0mmode\u001b[0m\u001b[0;34m]\u001b[0m\u001b[0;34m)\u001b[0m\u001b[0;34m\u001b[0m\u001b[0m\n\u001b[0m\u001b[1;32m    529\u001b[0m             \u001b[0mself\u001b[0m\u001b[0;34m.\u001b[0m\u001b[0mclose_on_error\u001b[0m \u001b[0;34m=\u001b[0m \u001b[0;32mTrue\u001b[0m\u001b[0;34m\u001b[0m\u001b[0m\n\u001b[1;32m    530\u001b[0m \u001b[0;34m\u001b[0m\u001b[0m\n",
      "\u001b[0;32m~/PyCharm/VirtualEnvs/AutoLensPy3/lib/python3.6/site-packages/astropy/io/fits/util.py\u001b[0m in \u001b[0;36mfileobj_open\u001b[0;34m(filename, mode)\u001b[0m\n\u001b[1;32m    386\u001b[0m     \"\"\"\n\u001b[1;32m    387\u001b[0m \u001b[0;34m\u001b[0m\u001b[0m\n\u001b[0;32m--> 388\u001b[0;31m     \u001b[0;32mreturn\u001b[0m \u001b[0mopen\u001b[0m\u001b[0;34m(\u001b[0m\u001b[0mfilename\u001b[0m\u001b[0;34m,\u001b[0m \u001b[0mmode\u001b[0m\u001b[0;34m,\u001b[0m \u001b[0mbuffering\u001b[0m\u001b[0;34m=\u001b[0m\u001b[0;36m0\u001b[0m\u001b[0;34m)\u001b[0m\u001b[0;34m\u001b[0m\u001b[0m\n\u001b[0m\u001b[1;32m    389\u001b[0m \u001b[0;34m\u001b[0m\u001b[0m\n\u001b[1;32m    390\u001b[0m \u001b[0;34m\u001b[0m\u001b[0m\n",
      "\u001b[0;31mFileNotFoundError\u001b[0m: [Errno 2] No such file or directory: '/home/jammy/PyCharm/Projects/AutoLens/howtolens/2_lens_modeling/data/3_realism_and_complexity/image.fits'"
     ],
     "output_type": "error"
    }
   ],
   "source": [
    "from autolens import conf\n",
    "from autolens.autofit import non_linear as nl\n",
    "from autolens.autofit import model_mapper as mm\n",
    "from autolens.pipeline import phase as ph\n",
    "from autolens.lensing import galaxy_model as gm\n",
    "from autolens.imaging import image as im\n",
    "from autolens.profiles import light_profiles as lp\n",
    "from autolens.profiles import mass_profiles as mp\n",
    "from autolens.plotting import fitting_plotters\n",
    "from howtolens.simulations import lens_modeling as simulate\n",
    "\n",
    "# We finished the last tutorial on sour note. Our non-linear search failed miserably, and we were unable to infer a\n",
    "# lens model which fitted our realistic data-set well. In this tutorial, we're going to right our past wrongs and infer\n",
    "# the correct model - not just once, but three times!\n",
    "\n",
    "# First, lets get the config / image loading out the way - we'll fit the same image as the previous tutorial.\n",
    "conf.instance = conf.Config(config_path='configs/4_dealing_with_failure', output_path=\"output\")\n",
    "simulate.tutorial_3_image()\n",
    "image = im.load_imaging_from_path(image_path='data/3_realism_and_complexity/image.fits',\n",
    "                                  noise_map_path='data/3_realism_and_complexity/noise_map.fits',\n",
    "                                  psf_path='data/3_realism_and_complexity/psf.fits', pixel_scale=0.1)\n",
    "\n",
    "# Even with my custom config files - the non-linear searches will take a bit of time to run in this tutorial. Whilst you\n",
    "# are waiting, I would skip ahead to the cells ahead of the phase-run cells, and sit back and think about the comments,\n",
    "# there's a lot to take in in this tutorial so don't feel that you're in a rush!\n",
    "\n",
    "# Alternatively, set these running and come back in 10 minutes or so - MultiNest resumes from the existing results on\n",
    "# your hard-disk, so you can rerun things to get the results instantly!"
   ]
  },
  {
   "cell_type": "code",
   "execution_count": null,
   "metadata": {},
   "outputs": [],
   "source": [
    "### Approach 1 -  Prior Tuning ###\n",
    "\n",
    "# The first approach we're going to take is we're going to give our non-linear search a helping hand. Lets think about\n",
    "# our priors - what they're doing is telling the non-linear search where to look in parameter space. If we tell it to\n",
    "# look in the right place (that is, *tune* our priors), it'll probaly find the best-fit lens model.\n",
    "\n",
    "# We've already seen that we can fully customize priors in AutoLens, so lets do it. I've set up a custom phase\n",
    "# below, and specified a new set of priors that'll give the non-linear search a much better chance at inferring the\n",
    "# correct model. I've also let you know what we're changing the priors from (as are specified by the\n",
    "# 'config/priors/default' config files.)\n",
    "\n",
    "class CustomPriorPhase(ph.LensSourcePlanePhase):\n",
    "\n",
    "    def pass_priors(self, previous_results):\n",
    "\n",
    "        # We've imported the 'model_mapper' module as 'mm' this time, to make the code more readable. We've also \n",
    "        # called our lens galaxy 'lens' this time, for shorter more readable code.\n",
    "\n",
    "        # By default, the prior on the x and y coordinates of a light / mass profile is a GaussianPrior with mean\n",
    "        # 0.0\" and sigma \"1.0. However, visual inspection of our strong lens image tells us that its clearly around\n",
    "        # x = 0.0\" and y = 0.0\", so lets reduce where non-linear search looks for these parameters.\n",
    "\n",
    "        self.lens_galaxies.lens.light.centre_0 = mm.UniformPrior(lower_limit=-0.05, upper_limit=0.05)\n",
    "        self.lens_galaxies.lens.light.centre_1 = mm.UniformPrior(lower_limit=-0.05, upper_limit=0.05)\n",
    "        self.lens_galaxies.lens.mass.centre_0 = mm.UniformPrior(lower_limit=-0.05, upper_limit=0.05)\n",
    "        self.lens_galaxies.lens.mass.centre_1 = mm.UniformPrior(lower_limit=-0.05, upper_limit=0.05)\n",
    "\n",
    "        # By default, the axis-ratio (ellipticity) of our lens galaxy's light pofile is a UniformPrior between 0.2 and\n",
    "        # 1.0. However, by looking at the image it looks fairly circular, so lets use a GaussianPrior nearer 1.0.\n",
    "        self.lens_galaxies.lens.light.axis_ratio = mm.GaussianPrior(mean=0.8, sigma=0.15)\n",
    "\n",
    "        # We'll also assume that the light profile's axis_ratio informs us of the mass-profile's axis_ratio, but\n",
    "        # because this may not strictly be true (because of dark matter) we'll use a wider prior.\n",
    "        self.lens_galaxies.lens.mass.axis_ratio = mm.GaussianPrior(mean=0.8, sigma=0.25)\n",
    "\n",
    "        # By default, the orientation of the galaxy's light profile, phi, uses a UniformPrior between 0.0 and\n",
    "        # 180.0 degrees. However, if you look really close at the image (and maybe adjust the color-map of the plot),\n",
    "        # you'll be able to notice that it is elliptical and that it is oriented around 45.0 degrees counter-clockwise\n",
    "        # from the x-axis. Lets update our prior\n",
    "        self.lens_galaxies.lens.light.phi = mm.GaussianPrior(mean=45.0, sigma=15.0)\n",
    "\n",
    "        # Again, lets kind of assume that light's orientation traces that of mass.\n",
    "        self.lens_galaxies.lens.mass.phi = mm.GaussianPrior(mean=45.0, sigma=30.0)\n",
    "\n",
    "        # The effective radius of a light profile is its 'half-light' radius, the radius at which 50% of its\n",
    "        # total luminosity is internal to the circle or ellipse defined within that radius. AutoLens assumes a\n",
    "        # UniformPrior on this quantity between 0.0\" and 4.0\", but inspection of the image (again, using a colormap\n",
    "        # scaling) shows the lens's light doesn't extend anywhere near 4.0\", so lets reduce it.\n",
    "        self.lens_galaxies.lens.light.effective_radius = mm.GaussianPrior(mean=0.5, sigma=0.8)\n",
    "\n",
    "        # Typically, we have some knowledge of what morphology our lens galaxy is. Infact, most strong lenses are\n",
    "        # massive ellipticals, and anyone who studies galaxy morphology will tell you these galaxies have a Sersic index\n",
    "        # near 4. So lets change our Sersic index from a UniformPrior between 0.8 and 8.0 to reflect this\n",
    "        self.lens_galaxies.lens.light.sersic_index = mm.GaussianPrior(mean=4.0, sigma=1.0)\n",
    "\n",
    "        # Finally, the 'ring' that the lensed source forms clearly has a radius of about 0.8\". This is its Einstein\n",
    "        # radius, so lets change the prior from a UniformPrior between 0.0\" and 4.0\".\n",
    "        self.lens_galaxies.lens.mass.einstein_radius = mm.GaussianPrior(mean=0.8, sigma=0.2)\n",
    "\n",
    "        # In this exercise, I'm not going to change any priors on the source galaxy. Whilst lens modeling experts can\n",
    "        # look at a strong lens and often tell you roughly where the source-galaxy is be located (in the source-plane),\n",
    "        # it is something of art form. Furthermore, the source's morphology can be pretty complex and it can become\n",
    "        # its very diffcult to come up with a good source prior when this is the case."
   ]
  },
  {
   "cell_type": "code",
   "execution_count": null,
   "metadata": {},
   "outputs": [],
   "source": [
    "# We can now create this custom phase and run it. Our non-linear search will start in a much higher likelihood region\n",
    "# of parameter space.\n",
    "custom_prior_phase = CustomPriorPhase(lens_galaxies=dict(lens=gm.GalaxyModel(light=lp.EllipticalSersic,\n",
    "                                                                                     mass=mp.EllipticalIsothermal)),\n",
    "                                      source_galaxies=dict(source=gm.GalaxyModel(light=lp.EllipticalExponential)),\n",
    "                                      optimizer_class=nl.MultiNest,\n",
    "                                      phase_name='4_custom_priors')\n",
    "custom_prior_result = custom_prior_phase.run(image=image)"
   ]
  },
  {
   "cell_type": "code",
   "execution_count": null,
   "metadata": {},
   "outputs": [],
   "source": [
    "# Bam! We get a good model. The right model. A glorious model! We gave our non-linear search a helping hand, and it\n",
    "# repaid us in spades!\n",
    "\n",
    "# Check out the PDF in the 'output/howstolens/4_custom_priors/optimizer/chains/pdfs' folder - what degeneracies do you\n",
    "# notice between parameters?\n",
    "fitting_plotters.plot_fitting_subplot(fit=custom_prior_result.fit)"
   ]
  },
  {
   "cell_type": "code",
   "execution_count": null,
   "metadata": {},
   "outputs": [],
   "source": [
    "# Okay, so we've learnt that by tuning our priors to the lens we're fitting, we can increase our chance of inferring a\n",
    "# good lens model. Before moving onto the next approach, lets think about the advantages and disadvantages of prior\n",
    "# tuning:\n",
    "\n",
    "# Advantage - We found the maximum likelihood solution in parameter space.\n",
    "# Advantage - The phase took less time to run, because the non-linear search explored less of parameter space.\n",
    "# Disadvantage - If we specified one prior incorrectly, the non-linear search would have began and therefore ended at\n",
    "#                an incorrect solution.\n",
    "# Disadvantage - Our phase was tailored to this specific strong lens. If we want to fit a large sample of lenses, we'd\n",
    "#                have to write a custom phase for every single one - this would take up a lot of our time!"
   ]
  },
  {
   "cell_type": "code",
   "execution_count": null,
   "metadata": {},
   "outputs": [],
   "source": [
    "### Approach 2 -  Reducing Complexity ###\n",
    "\n",
    "# Our non-linear searched failed because we made the lens model more realistic and therefore more complex. Maybe we\n",
    "# can make it less complex, whilst still keeping it fairly realistic? Maybe there are some assumptions we can make\n",
    "# to reduce the number of lens model parameters and therefore dimensionality of non-linear parameter space?\n",
    "\n",
    "# Well, we're scientists, so we can *always* make assumptions. Below, I'm going to create a phase that assumes that\n",
    "# light-traces-mass. That is, that our light-profile's centre, axis_ratio and orientation are perfectly\n",
    "# aligned with its mass. This may, or may not, be a reasonable assumption, but it'll remove 4 parameters from the lens\n",
    "# model (the mass-profiles x, y, axis_ratio and phi), so its worth trying!\n",
    "\n",
    "class LightTracesMassPhase(ph.LensSourcePlanePhase):\n",
    "\n",
    "    def pass_priors(self, previous_results):\n",
    "\n",
    "        # In the pass priors function, we can 'pair' any two parameters by setting them equal to one another. This\n",
    "        # removes the parameter on the left-hand side of the pairing from the lens model, such that is always assumes\n",
    "        # the same value as the parameter on the right-hand side.\n",
    "        self.lens_galaxies.lens.mass_centre_0 = self.lens_galaxies.lens.light.centre_0\n",
    "\n",
    "        # Now, the mass-profile's x coordinate will only use the x coordinate of the light profile. Lets do this with\n",
    "        # the remaining geometric parameters of the light and mass profiles\n",
    "        self.lens_galaxies.lens.mass_centre_1 = self.lens_galaxies.lens.light.centre_1\n",
    "        self.lens_galaxies.lens.mass_axis_ratio = self.lens_galaxies.lens.light.axis_ratio\n",
    "        self.lens_galaxies.lens.mass_phi = self.lens_galaxies.lens.light.phi"
   ]
  },
  {
   "cell_type": "code",
   "execution_count": 1,
   "metadata": {},
   "outputs": [
    {
     "ename": "NameError",
     "evalue": "name 'LightTracesMassPhase' is not defined",
     "traceback": [
      "\u001b[0;31m---------------------------------------------------------------------------\u001b[0m",
      "\u001b[0;31mNameError\u001b[0m                                 Traceback (most recent call last)",
      "\u001b[0;32m<ipython-input-1-19f4fdce6602>\u001b[0m in \u001b[0;36m<module>\u001b[0;34m()\u001b[0m\n\u001b[1;32m      1\u001b[0m \u001b[0;31m# Again, we create this phase and run it. The non-linear search has a less complex parameter space to seach, and thus\u001b[0m\u001b[0;34m\u001b[0m\u001b[0;34m\u001b[0m\u001b[0m\n\u001b[1;32m      2\u001b[0m \u001b[0;31m# more chance finding its highest likelihood regions. (again, the results have been precomputed for your convience).\u001b[0m\u001b[0;34m\u001b[0m\u001b[0;34m\u001b[0m\u001b[0m\n\u001b[0;32m----> 3\u001b[0;31m light_traces_mass_phase = LightTracesMassPhase(lens_galaxies=[gm.GalaxyModel(light=lp.EllipticalSersic,\n\u001b[0m\u001b[1;32m      4\u001b[0m                                                                     mass=mp.EllipticalIsothermal)],\n\u001b[1;32m      5\u001b[0m                                       \u001b[0msource_galaxies\u001b[0m\u001b[0;34m=\u001b[0m\u001b[0;34m[\u001b[0m\u001b[0mgm\u001b[0m\u001b[0;34m.\u001b[0m\u001b[0mGalaxyModel\u001b[0m\u001b[0;34m(\u001b[0m\u001b[0mlight\u001b[0m\u001b[0;34m=\u001b[0m\u001b[0mlp\u001b[0m\u001b[0;34m.\u001b[0m\u001b[0mEllipticalExponential\u001b[0m\u001b[0;34m)\u001b[0m\u001b[0;34m]\u001b[0m\u001b[0;34m,\u001b[0m\u001b[0;34m\u001b[0m\u001b[0m\n",
      "\u001b[0;31mNameError\u001b[0m: name 'LightTracesMassPhase' is not defined"
     ],
     "output_type": "error"
    }
   ],
   "source": [
    "# Again, we create this phase and run it. The non-linear search has a less complex parameter space to seach, and thus\n",
    "light_traces_mass_phase = LightTracesMassPhase(lens_galaxies=dict(lens=gm.GalaxyModel(light=lp.EllipticalSersic,\n",
    "                                                                                       mass=mp.EllipticalIsothermal)),\n",
    "                                      source_galaxies=dict(source=gm.GalaxyModel(light=lp.EllipticalExponential)),\n",
    "                                      optimizer_class=nl.MultiNest,\n",
    "                                               phase_name='4_light_traces_mass')\n",
    "\n",
    "light_traces_mass_phase_result = light_traces_mass_phase.run(image=image)\n",
    "fitting_plotters.plot_fitting_subplot(fit=light_traces_mass_phase_result.fit)"
   ]
  },
  {
   "cell_type": "code",
   "execution_count": null,
   "metadata": {},
   "outputs": [],
   "source": [
    "# The results look pretty good. Our source galaxy fits the data pretty well, and we've clearly inferred a model that\n",
    "# looks similar to the one above. However, inspection of the residuals shows that the fit wasn't quite as good as the\n",
    "# custom-phase above.\n",
    "\n",
    "# It turns out that when I simulated this image, light didn't perfectly trace mass. The light-profile's axis-ratio was\n",
    "# 0.9, whereas the mass-profiles was 0.8. The quality of the fit has suffered as a result, and the likelihood we've\n",
    "# inferred is lower.\n",
    "#\n",
    "# Herein lies the pitfalls of making assumptions in science - they may make your model less realistic and your results\n",
    "# worse! Nevertheless, our lens model is clearly much better than it was in the previous tutorial, so making\n",
    "# assumptions isn't a bad idea if you're struggling to fit the data t all.\n",
    "\n",
    "# Again, lets consider the advantages and disadvantages of this approach:\n",
    "\n",
    "# Advantage - By reducing parameter space's complexity, we inferred the global maximum likelihood.\n",
    "# Advantage - The phase is not specific to one lens - we could run it on many strong lens images.\n",
    "# Disadvantage - Our model was less realistic, and our fit suffered as a result."
   ]
  },
  {
   "cell_type": "code",
   "execution_count": null,
   "metadata": {},
   "outputs": [],
   "source": [
    "### Approach 3 -  Look Harder ###\n",
    "\n",
    "# In approaches 1 and 2, we extended our non-linear search an olive branch and generously helped it find the highest\n",
    "# likelihood regions of parameter space. In approach 3 ,we're going to be stern with our non-linear search, and tell it\n",
    "# 'look harder'.\n",
    "\n",
    "# Basically, every non-linear search algorithm has a set of parameters that govern how thoroughly it searches parameter\n",
    "# space. The more thoroughly it looks, the more like it is that it'll find the global maximum lens model. However,\n",
    "# the search will also take longer - and we don't want it to take too long to get some results.\n",
    "\n",
    "# Lets setup a phase, and overwrite some of the non-linear search's parameters from the defaults it assumes in the\n",
    "# 'config/non_linear.ini' config file:\n",
    "\n",
    "custom_non_linear_phase = ph.LensSourcePlanePhase(lens_galaxies=dict(lens=gm.GalaxyModel(light=lp.EllipticalSersic,\n",
    "                                                                                mass=mp.EllipticalIsothermal)),\n",
    "                                      source_galaxies=dict(source=gm.GalaxyModel(light=lp.EllipticalExponential)),\n",
    "                                      optimizer_class=nl.MultiNest,\n",
    "                                                  phase_name='4_custom_non_linear')"
   ]
  },
  {
   "cell_type": "code",
   "execution_count": null,
   "metadata": {},
   "outputs": [],
   "source": [
    "# The 'optimizer' below is MultiNest, the non-linear search we're using.\n",
    "\n",
    "# When MultiNest searches non-linear parameter space, it places down a set of 'live-points', each of which corresponds\n",
    "# to a particular lens model (set of parameters) and has an associted likelihood. If it guesses a new lens model with a\n",
    "# higher likelihood than any of the currently active live points, this new lens model will become an active point. As a\n",
    "# result, the active point with the lowest likelihood is discarded.\n",
    "\n",
    "# The more live points MultiNest uses, the more thoroughly it will sample parameter space. Lets increase the number of\n",
    "# points from the default value (50) to 100.\n",
    "custom_non_linear_phase.optimizer.n_live_points = 100"
   ]
  },
  {
   "cell_type": "code",
   "execution_count": null,
   "metadata": {},
   "outputs": [],
   "source": [
    "# When MultiNest thinks its found a 'peak' likelihood in parameter space, it begins to converge around this peak. It\n",
    "# does this by guessing lens models with similar parameters. However, this peak might not be the global maximum,\n",
    "# and if MultiNest converges too quickly around a peak it won't realise this before its too late.\n",
    "#\n",
    "# The sampling efficiency therefore describes how quickly MultiNest converges around a peak. It assumes values between\n",
    "# 0.0 and 1.0, where 1.0 corresponds to the fastest convergance but highest risk of not locating the global maximum.\n",
    "# Lets reduce the sampling efficiency from 0.8 to 0.5.\n",
    "custom_non_linear_phase.optimizer.sampling_efficiency = 0.5"
   ]
  },
  {
   "cell_type": "code",
   "execution_count": null,
   "metadata": {},
   "outputs": [],
   "source": [
    "# These are the two most important MultiNest parameters controlling how it navigates parameter space, so lets run this\n",
    "# phase and see if our more detailed inspection of parameter space finds the correct lens model.\n",
    "custom_non_linear_result = custom_non_linear_phase.run(image=image)"
   ]
  },
  {
   "cell_type": "code",
   "execution_count": null,
   "metadata": {},
   "outputs": [],
   "source": [
    "# Indeed, it does. Thus, we can always brute-force our way to a good lens model, if all else fails.\n",
    "fitting_plotters.plot_fitting_subplot(fit=custom_non_linear_result.fit)\n"
   ]
  },
  {
   "cell_type": "code",
   "execution_count": null,
   "metadata": {},
   "outputs": [],
   "source": [
    "# Finally, lets list the advantages and disadvantages of this approach:\n",
    "\n",
    "# Advantage - Its easy to setup, we just increase n_live_points or decrease sampling_efficiency.\n",
    "# Advantage - It generalizes to any strong lens.\n",
    "# Advantage - We didn't have to make our model less realistic.\n",
    "# Disadvantage - Its expensive. Very expensive. The run-time of this phase was over 6 hours. For more complex models\n",
    "#                we could be talking days or weeks (or, dare I say it, months)."
   ]
  },
  {
   "cell_type": "code",
   "execution_count": null,
   "metadata": {},
   "outputs": [],
   "source": [
    "# So, there we have it, we can now fit strong lenses PyAutoLens. And if it fails, we know how to get it to work. I hope\n",
    "# you're feeling pretty smug. You might even be thinking 'why should I bother with the rest of these tutorials, if I\n",
    "# can fit strong a lens already'.\n",
    "\n",
    "# Well, my friend,  I want you to think about the last disadvantage listed above. If modeling a single lens could\n",
    "# really take as long as a month, are you really willing to spend your valuable time waiting for this? I'm not, which\n",
    "# is why I developed AutoLens, and in the next tutorial we'll see how we can get the best of both worlds - realistic,\n",
    "# complex lens model that take mere hours to infer!\n",
    "\n",
    "# Before doing that though, I want you to go over the advantages and disadvantages listed above again, and think\n",
    "# whether we could combine these different approaches to get the best of all worlds."
   ]
  }
 ],
 "metadata": {
  "kernelspec": {
   "display_name": "Python 2",
   "language": "python",
   "name": "python2"
  },
  "language_info": {
   "codemirror_mode": {
    "name": "ipython",
    "version": 2
   },
   "file_extension": ".py",
   "mimetype": "text/x-python",
   "name": "python",
   "nbconvert_exporter": "python",
   "pygments_lexer": "ipython2",
   "version": "2.7.6"
  }
 },
 "nbformat": 4,
 "nbformat_minor": 0
}
