{
 "cells": [
  {
   "cell_type": "code",
   "execution_count": null,
   "metadata": {
    "collapsed": true
   },
   "outputs": [],
   "source": [
    "from autolens.autofit import non_linear as nl\n",
    "from autolens.autofit import model_mapper as mm\n",
    "from autolens.pipeline import phase as ph\n",
    "from autolens.lensing import galaxy_model as gm\n",
    "from autolens.imaging import image as im\n",
    "from autolens.profiles import light_profiles as lp\n",
    "from autolens.profiles import mass_profiles as mp\n",
    "from autolens.plotting import fitting_plotters\n",
    "\n",
    "# We finished the last tutorial on sour note. Our non-linear search failed miserably, and we were unable to infer a \n",
    "# lens model which fitted our realistic data-set well. In this tutorial, we're going to right our past wrongs and infer \n",
    "# the correct model - not just once, but three times!"
   ]
  },
  {
   "cell_type": "code",
   "execution_count": null,
   "metadata": {},
   "outputs": [],
   "source": [
    "### Approach 1 -  Prior Tuning ###\n",
    "\n",
    "# The first approach we're going to take is we're going to give our non-linear search a helping hand. Lets think about\n",
    "# our priors - what they're doing is telling the non-linear search where to look in parameter space. If we tell it to\n",
    "# look in the right place (that is, *tune* our priors), it'll probaly find the best-fit lens model.\n",
    "# We've already seen that we can fully customize priors in AutoLens, so lets do it. I've set up a custom phase\n",
    "# below, and specified a new set of priors that'll give the non-linear search a much better chance at inferring the\n",
    "# correct model. I've also let you know what we're changing the priors from (as are specified by the\n",
    "# 'config/priors/default' config files.)\n",
    "\n",
    "# Load the same image as the previous tutorial.\n",
    "path = '/home/jammy/PyCharm/Projects/AutoLens/howtolens/2_lens_modeling'\n",
    "image = im.load_imaging_from_path(image_path=path + '/data/3_realism_and_complexity_image.fits',\n",
    "                                  noise_map_path=path+'/data/3_realism_and_complexity_noise_map.fits',\n",
    "                                  psf_path=path + '/data/3_realism_and_complexity_psf.fits', pixel_scale=0.1)\n",
    "\n",
    "class CustomPriorPhase(ph.LensSourcePlanePhase):\n",
    "\n",
    "    def pass_priors(self, previous_results):\n",
    "\n",
    "        # We've imported the 'model_mapper' moodule as 'mm' this time, to make the code more readable.\n",
    "\n",
    "        # By default, the prior on the x and y coordinates of a light / mass profile is a GaussianPrior with mean\n",
    "        # 0.0\" and sigma \"1.0. However, visual inspection of our strong lens image tells us that its clearly around\n",
    "        # x = 0.0\" and y = 0.0\", so lets reduce where non-linear search looks for these parameters.\n",
    "\n",
    "        self.lens_galaxies[0].light.centre_0 = mm.UniformPrior(lower_limit=-0.05, upper_limit=0.05)\n",
    "        self.lens_galaxies[0].light.centre_1 = mm.UniformPrior(lower_limit=-0.05, upper_limit=0.05)\n",
    "        self.lens_galaxies[0].mass.centre_0 = mm.UniformPrior(lower_limit=-0.05, upper_limit=0.05)\n",
    "        self.lens_galaxies[0].mass.centre_1 = mm.UniformPrior(lower_limit=-0.05, upper_limit=0.05)\n",
    "\n",
    "        # By default, the axis-ratio (ellipticity) of our lens galaxy's light pofile is a UniformPrior between 0.2 and\n",
    "        # 1.0. However, by looking at the image it looks fairly circular, so lets use a GaussianPrior nearer 1.0.\n",
    "        self.lens_galaxies[0].light.axis_ratio = mm.GaussianPrior(mean=0.8, sigma=0.15)\n",
    "\n",
    "        # We'll also assume that the light profile's axis_ratio informs us of the mass-profile's axis_ratio, but\n",
    "        # because this may not strictly be true (because of dark matter) we'll use a wider prior.\n",
    "        self.lens_galaxies[0].mass.axis_ratio = mm.GaussianPrior(mean=0.8, sigma=0.25)\n",
    "\n",
    "        # By default, the orientation of the galaxy's light profile, phi, uses a UniformPrior between 0.0 and\n",
    "        # 180.0 degrees. However, if you look really close at the image (and maybe adjust the color-map of the plot),\n",
    "        # you'll be able to notice that it is elliptical and that it is oriented around 45.0 degrees counter-clockwise\n",
    "        # from the x-axis. Lets update our prior\n",
    "        self.lens_galaxies[0].light.phi = mm.GaussianPrior(mean=45.0, sigma=15.0)\n",
    "\n",
    "        # Again, lets kind of assume that light's orientation traces that of mass.\n",
    "        self.lens_galaxies[0].mass.phi = mm.GaussianPrior(mean=45.0, sigma=30.0)\n",
    "\n",
    "        # The effective radius of a light profile is its 'half-light' radius, the radius at which 50% of its\n",
    "        # total luminosity is internal to the circle or ellipse defined within that radius. AutoLens assumes a\n",
    "        # UniformPrior on this quantity between 0.0\" and 4.0\", but inspection of the image (again, using a colormap\n",
    "        # scaling) shows the lens's light doesn't extend anywhere near 4.0\", so lets reduce it.\n",
    "        self.lens_galaxies[0].light.effective_radius = mm.GaussianPrior(mean=0.5, sigma=0.8)\n",
    "\n",
    "        # Typically, we have some knowledge of what morphology our lens galaxy is. Infact, most strong lenses are\n",
    "        # massive ellipticals, and anyone who studies galaxy morphology will tell you these galaxies have a Sersic index\n",
    "        # near 4. So lets change our Sersic index from a UniformPrior between 0.8 and 8.0 to reflect this\n",
    "        self.lens_galaxies[0].light.sersic_index = mm.GaussianPrior(mean=4.0, sigma=1.0)\n",
    "\n",
    "        # Finally, the 'ring' that the lensed source forms clearly has a radius of about 1.0\". This is its Einstein\n",
    "        # radius, so lets change the prior from a UniformPrior between 0.0\" and 4.0\".\n",
    "        self.lens_galaxies[0].mass.einstein_radius = mm.GaussianPrior(mean=1.0, sigma=0.2)\n",
    "\n",
    "        # In this exercise, I'm not going to change any priors on the source galaxy. Whilst lens modeling experts can\n",
    "        # look at a strong lens and often tell you roughly where the source-galaxy is be located (in the source-plane), \n",
    "        # it is something of art form. Furthermore, the source's morphology can be pretty complex and it can become \n",
    "        # its very diffcult to come up with a good source prior when this is the case."
   ]
  },
  {
   "cell_type": "code",
   "execution_count": null,
   "metadata": {},
   "outputs": [],
   "source": [
    "# We can now create this custom phase and run it. Our non-linear search will start in a much higher likelihood region\n",
    "# of parameter space. (again, to save you time, I've precomputed the results of this phase, but feel free to run it\n",
    "# yourself).\n",
    "custom_prior_phase = CustomPriorPhase(lens_galaxies=[gm.GalaxyModel(light=lp.EllipticalSersic,\n",
    "                                                                    mass=mp.EllipticalIsothermal)],\n",
    "                                      source_galaxies=[gm.GalaxyModel(light=lp.EllipticalExponential)],\n",
    "                                      optimizer_class=nl.MultiNest, \n",
    "                                      phase_name='howtolens/2_lens_modeling/4_custom_priors')\n",
    "custom_prior_result = custom_prior_phase.run(image=image)"
   ]
  },
  {
   "cell_type": "code",
   "execution_count": null,
   "metadata": {},
   "outputs": [],
   "source": [
    "# Bam! We get a good model. The right model. A glorious model! We gave our non-linear search a helping hand, and it\n",
    "# repaid us in spades! \n",
    " \n",
    "# Check out the PDF in the 'output/howstolens/4_custom_priors/optimizer/chains/pdfs' folder - what degeneracies do you \n",
    "# notice between parameters?\n",
    "fitting_plotters.plot_fitting(fit=custom_prior_result.fit)"
   ]
  },
  {
   "cell_type": "code",
   "execution_count": null,
   "metadata": {},
   "outputs": [],
   "source": [
    "# Okay, so we've learnt that by tuning our priors to the lens we're fitting, we can increase our chance of inferring a \n",
    "# good lens model. Before moving onto the next approach, lets think about the advantages and disadvantages of prior \n",
    "# tuning:\n",
    "\n",
    "# Advantage - We found the maximum likelihood solution in parameter space.\n",
    "# Advantage - The phase took less time to run, because the non-linear search explored less of parameter space.\n",
    "# Disadvantage - If we specified one prior incorrectly, the non-linear search would have began and therefore ended at \n",
    "#                an incorrect solution.\n",
    "# Disadvantage - Our phase was tailored to this specific strong lens. If we want to fit a large sample of lenses, we'd \n",
    "#                have to write a custom phase for every single one - this would take up a lot of our time!\n"
   ]
  },
  {
   "cell_type": "code",
   "execution_count": null,
   "metadata": {},
   "outputs": [],
   "source": [
    "### Approach 2 -  Reducing Complexity ###\n",
    "\n",
    "# Our non-linear searched failed because we made the lens model more realistic and therefore more complex. Maybe we\n",
    "# can make it less complex, whilst still keeping it fairly realistic? Maybe there are some assumptions we can make\n",
    "# to reduce the number of lens model parameters and therefore dimensionality of non-linear parameter space?\n",
    "\n",
    "# Well, we're scientists, so we can *always* make assumptions. Below, I'm going to create a phase that assumes that \n",
    "# light-traces-mass. That is, that our light-profile's centre, axis_ratio and orientation are perfectly\n",
    "# aligned with its mass. This may, or may not, be a reasonable assumption, but it'll remove 4 parameters from the lens\n",
    "# model (the mass-profiles x, y, axis_ratio and phi), so its worth trying!\n",
    "\n",
    "class LightTracesMassPhase(ph.LensSourcePlanePhase):\n",
    "\n",
    "    def pass_priors(self, previous_results):\n",
    "\n",
    "        # In the pass priors function, we can 'pair' any two parameters by setting them equal to one another. This\n",
    "        # removes the parameter on the left-hand side of the pairing from the lens model, such that is always assumes\n",
    "        # the same value as the parameter on the right-hand side.\n",
    "        self.lens_galaxies[0].mass_centre_0 = self.lens_galaxies[0].light.centre_0\n",
    "\n",
    "        # Now, the mass-profile's x coordinate will only use the x coordinate of the light profile. Lets do this with\n",
    "        # the remaining geometric parameters of the light and mass profiles\n",
    "        self.lens_galaxies[0].mass_centre_1 = self.lens_galaxies[0].light.centre_1\n",
    "        self.lens_galaxies[0].mass_axis_ratio = self.lens_galaxies[0].light.axis_ratio\n",
    "        self.lens_galaxies[0].mass_phi = self.lens_galaxies[0].light.phi"
   ]
  },
  {
   "cell_type": "code",
   "execution_count": null,
   "metadata": {},
   "outputs": [],
   "source": [
    "# Again, we create this phase and run it. The non-linear search has a less complex parameter space to seach, and thus\n",
    "# more chance finding its highest likelihood regions. (again, the results have been precomputed for your convience).\n",
    "light_traces_mass_phase = LightTracesMassPhase(lens_galaxies=[gm.GalaxyModel(light=lp.EllipticalSersic,\n",
    "                                                                    mass=mp.EllipticalIsothermal)],\n",
    "                                      source_galaxies=[gm.GalaxyModel(light=lp.EllipticalExponential)],\n",
    "                                      optimizer_class=nl.MultiNest, phase_name='howtolens/4_light_traces_mass')\n",
    "\n",
    "light_traces_mass_phase_result = custom_prior_phase.run(image=image)\n"
   ]
  },
  {
   "cell_type": "code",
   "execution_count": null,
   "metadata": {},
   "outputs": [],
   "source": [
    "# The results look pretty good. Our source galaxy fits the data pretty well, and we've clearly inferred a model that\n",
    "# looks similar to the one above. However, inspection of the residuals shows that the fit wasn't quite as good as the \n",
    "# custom-phase above.\n",
    "\n",
    "# It turns out that when I simulated this image, light didn't perfectly trace mass. The light-profile's axis-ratio was\n",
    "# 0.9, whereas the mass-profiles was 0.8. The quality of the fit has suffered as a result, and the likelihood we've\n",
    "# inferred is lower. \n",
    "# \n",
    "# Herein lies the pitfalls of making assumptions in science - they may make your model less realistic and your results \n",
    "# worse! Nevertheless, our lens model is clearly much better than it was in the previous tutorial, so making \n",
    "# assumptions isn't a bad idea if you're struggling to fit the data t all.\n",
    "\n",
    "# Again, lets consider the advantages and disadvantages of this approach:\n",
    "\n",
    "# Advantage - By reducing parameter space's complexity, we inferred the global maximum likelihood.\n",
    "# Advantage - The phase is not specific to one lens - we could run it on many strong lens images.\n",
    "# Disadvantage - Our model was less realistic, and our fit suffered as a result."
   ]
  },
  {
   "cell_type": "code",
   "execution_count": null,
   "metadata": {},
   "outputs": [],
   "source": [
    "### Approach 3 -  Look Harder ###\n",
    "\n",
    "# In approaches 1 and 2, we extended our non-linear search an olive branch and generously helped it find the highest\n",
    "# likelihood regions of parameter space. In approach 3 ,we're going to be stern with our non-linear search, and tell it\n",
    "# 'look harder'.\n",
    "\n",
    "# Basically, every non-linear search algorithm has a set of parameters that govern how thoroughly it searches parameter\n",
    "# space. The more thoroughly it looks, the more like it is that it'll find the global maximum lens model. However,\n",
    "# the search will also take longer - and we don't want it to take too long to get some results.\n",
    "\n",
    "# Lets setup a phase, and overwrite some of the non-linear search's parameters from the defaults it assumes in the\n",
    "# 'config/non_linear.ini' config file:\n",
    "\n",
    "custom_non_linear_phase = ph.LensSourcePlanePhase(lens_galaxies=[gm.GalaxyModel(light=lp.EllipticalSersic,\n",
    "                                                                                mass=mp.EllipticalIsothermal)],\n",
    "                                      source_galaxies=[gm.GalaxyModel(light=lp.EllipticalExponential)],\n",
    "                                      optimizer_class=nl.MultiNest, phase_name='howtolens/4_custom_non_linear')"
   ]
  },
  {
   "cell_type": "code",
   "execution_count": null,
   "metadata": {},
   "outputs": [],
   "source": [
    "# The 'optimizer' below is MultiNest, the non-linear search we're using.\n",
    "\n",
    "# When MultiNest searches non-linear parameter space, it places down a set of 'live-points', each of which corresponds\n",
    "# to a particular lens model (set of parameters) and has an associted likelihood. If it guesses a new lens model with a\n",
    "# higher likelihood than any of the currently active live points, this new lens model will become an active point. As a \n",
    "# result, the active point with the lowest likelihood is discarded.\n",
    "\n",
    "# The more live points MultiNest uses, the more thoroughly it will sample parameter space. Lets increase the number of \n",
    "# points from the default value (50) to 100.\n",
    "custom_non_linear_phase.optimizer.n_live_points = 100"
   ]
  },
  {
   "cell_type": "code",
   "execution_count": null,
   "metadata": {},
   "outputs": [],
   "source": [
    "# When MultiNest thinks its found a 'peak' likelihood in parameter space, it begins to converge around this peak. It\n",
    "# does this by guessing lens models with similar parameters. However, this peak might not be the global maximum,\n",
    "# and if MultiNest converges too quickly around a peak it won't realise this before its too late.\n",
    "#\n",
    "# The sampling efficiency therefore describes how quickly MultiNest converges around a peak. It assumes values between\n",
    "# 0.0 and 1.0, where 1.0 corresponds to the fastest convergance but highest risk of not locating the global maximum. \n",
    "# Lets reduce the sampling efficiency from 0.8 to 0.5.\n",
    "custom_non_linear_phase.optimizer.sampling_efficiency = 0.5"
   ]
  },
  {
   "cell_type": "code",
   "execution_count": null,
   "metadata": {},
   "outputs": [],
   "source": [
    "# These are the two most important MultiNest parameters controlling how it navigates parameter space, so lets run this \n",
    "# phase and see if our more detailed inspection of parameter space finds the correct lens model.\n",
    "custom_non_linear_result = custom_prior_phase.run(image=image)\n"
   ]
  },
  {
   "cell_type": "code",
   "execution_count": null,
   "metadata": {},
   "outputs": [],
   "source": [
    "# Indeed, it does. Thus, we can always brute-force our way to a good lens model, if all else fails.\n",
    "fitting_plotters.plot_fitting(fit=custom_non_linear_result.fit)"
   ]
  },
  {
   "cell_type": "code",
   "execution_count": null,
   "metadata": {},
   "outputs": [],
   "source": [
    "# Finally, lets list the advantages and disadvantages of this approach:\n",
    "\n",
    "# Advantage - Its easy to setup, we just increase n_live_points or decrease sampling_efficiency.\n",
    "# Advantage - It generalizes to any strong lens.\n",
    "# Advantage - We didn't have to make our model less realistic.\n",
    "# Disadvantage - Its expensive. Very expensive. The run-time of this phase was over 6 hours. For more complex models\n",
    "#                we could be talking days or weeks (or, dare I say it, months)."
   ]
  },
  {
   "cell_type": "code",
   "execution_count": null,
   "metadata": {},
   "outputs": [],
   "source": [
    "# So, there we have it, we can now fit strong lenses PyAutoLens. And if it fails, we know how to get it to work. I hope\n",
    "# you're feeling pretty smug. You might even be thinking 'why should I bother with the rest of these tutorials, if I \n",
    "# can fit strong a lens already'.\n",
    "\n",
    "# Well, my friend,  I want you to think about the last disadvantage listed above. If modeling a single lens could\n",
    "# really take as long as a month, are you really willing to spend your valuable time waiting for this? I'm not, which \n",
    "# is why I developed AutoLens, and in the next tutorial we'll see how we can get the best of both worlds - realistic, \n",
    "# complex lens model that take mere hours to infer!\n",
    "\n",
    "# Before doing that though, I want you to go over the advantages and disadvantages listed above again, and think\n",
    "# whether we could combine these different approaches to get the best of all worlds."
   ]
  }
 ],
 "metadata": {
  "kernelspec": {
   "display_name": "Python 2",
   "language": "python",
   "name": "python2"
  },
  "language_info": {
   "codemirror_mode": {
    "name": "ipython",
    "version": 2
   },
   "file_extension": ".py",
   "mimetype": "text/x-python",
   "name": "python",
   "nbconvert_exporter": "python",
   "pygments_lexer": "ipython2",
   "version": "2.7.6"
  }
 },
 "nbformat": 4,
 "nbformat_minor": 0
}
