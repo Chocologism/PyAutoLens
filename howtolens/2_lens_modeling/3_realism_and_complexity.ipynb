{
 "cells": [
  {
   "cell_type": "code",
   "execution_count": null,
   "metadata": {
    "collapsed": true
   },
   "outputs": [],
   "source": [
    "from autolens.autofit import non_linear as nl\n",
    "from autolens.pipeline import phase as ph\n",
    "from autolens.lensing import galaxy_model as gm\n",
    "from autolens.imaging import image as im\n",
    "from autolens.imaging import mask as ma\n",
    "from autolens.lensing import ray_tracing\n",
    "from autolens.lensing import galaxy as g\n",
    "from autolens.lensing import fitting\n",
    "from autolens.lensing import lensing_image as li\n",
    "from autolens.profiles import light_profiles as lp\n",
    "from autolens.profiles import mass_profiles as mp\n",
    "from autolens.plotting import imaging_plotters\n",
    "from autolens.plotting import fitting_plotters\n",
    "\n",
    "# Up to now, we've fitted some fairly crude and unrealistic lens models. For example, we'e completely omitted the lens\n",
    "# galaxy's light, and its mass has been modeled as a sphere. Given most lens galaxies are literally called 'elliptical'\n",
    "# galaxies, we should probably model their mass as elliptical. In this example, we'll start using a more realistic\n",
    "# lens model.\n",
    "\n",
    "# In my experience, the simplest lens model (e.g. that has the fewest parameters) that one can fit to a real strong \n",
    "# lens and still get a reasonable fit is as follows:\n",
    "\n",
    "# 1) An elliptical Sersic light-profile for the lens galaxy's light.\n",
    "# 2) A singular isothermal ellipsoid (SIE) mass-profile for the lens galaxy's mass.\n",
    "# 3) An elliptical exponential light-profile for the source galaxy's light (to be honest, even this is a gross\n",
    "# over-simplification, but lets worry about that later).\n",
    "\n",
    "# This has a total of 18 non-linear parameters, which is over double the number of parameters we've fitted up to now.\n",
    "# In future exercises, we'll fit even more complex models, with some 20-30+ non-linear parameters.\n",
    "\n",
    "# The goal of this, rather short, exercise, is to fit this 'realistic' model to a simulated image, where the lens's\n",
    "# light is visible and mass is elliptical. What could go wrong?"
   ]
  },
  {
   "cell_type": "code",
   "execution_count": null,
   "metadata": {},
   "outputs": [],
   "source": [
    "# First, lets load a new simulated image..\n",
    "path = 'path/to/AutoLens/howtolens/0_introduction'\n",
    "path = '/home/jammy/PyCharm/Projects/AutoLens/howtolens/2_lens_modeling'\n",
    "image = im.load_imaging_from_path(image_path=path + '/data/3_realism_and_complexity_image.fits',\n",
    "                                  noise_map_path=path+'/data/3_realism_and_complexity_noise_map.fits',\n",
    "                                  psf_path=path + '/data/3_realism_and_complexity_psf.fits', pixel_scale=0.1)\n",
    "\n",
    "# When we plot it, the lens light's is clealy visible in the centre of the image\n",
    "imaging_plotters.plot_image(image=image)"
   ]
  },
  {
   "cell_type": "code",
   "execution_count": null,
   "metadata": {},
   "outputs": [],
   "source": [
    "# Now lets fit it using a phase, noting that indeed the galaxy-model corresponds to the one above.\n",
    "\n",
    "# Because we now have 18 non-linear parameters. the non-linear search takes a lot longer to run. On my laptop, this \n",
    "# phase took around an hour, which is a bit too long for you to wait if you want to go through these tutorials quickly. \n",
    "# Therefore, the results of this non-linear search (and future ones) are already included, allowing you to\n",
    "# go through the tutorial as if you had actually run them.\n",
    "\n",
    "# Nevertheless, you could try running it yourself (maybe over your lunch break?). All you need to do is change the \n",
    "# phase_name below, maybe to something like 'howtolens/3_realism_and_complexity_rerun'\n",
    "phase = ph.LensSourcePlanePhase(lens_galaxies=[gm.GalaxyModel(light=lp.EllipticalSersic,\n",
    "                                                              mass=mp.EllipticalIsothermal)],\n",
    "                                source_galaxies=[gm.GalaxyModel(light=lp.EllipticalExponential)],\n",
    "                                optimizer_class=nl.MultiNest, \n",
    "                                phase_name='howtolens/2_lens_modeling/3_realism_and_complexity')\n"
   ]
  },
  {
   "cell_type": "code",
   "execution_count": null,
   "metadata": {},
   "outputs": [],
   "source": [
    "\n",
    "results = phase.run(image)"
   ]
  },
  {
   "cell_type": "code",
   "execution_count": null,
   "metadata": {},
   "outputs": [],
   "source": [
    "# And lets look at the image.\n",
    "fitting_plotters.plot_fitting(fit=results.fit)"
   ]
  },
  {
   "cell_type": "code",
   "execution_count": null,
   "metadata": {},
   "outputs": [],
   "source": [
    "# Uh-oh. That image didn't look very good, did it? If we compare our inferred parameters to the actual values (in the\n",
    "# simulations.py file) you'll see that we have, indeed, fitted the wrong model.\n",
    "print(results)"
   ]
  },
  {
   "cell_type": "code",
   "execution_count": null,
   "metadata": {},
   "outputs": [],
   "source": [
    "# Yep, we've inferred the wrong lens model. Or have we? Maybe you're thinking that this model provides an even higher \n",
    "# likelihood than the correct solution? Lets make absolutely sure it doesnt: (you've seen all this code below before,\n",
    "# but I've put a few comments to remind you of whats happening)\n",
    "\n",
    "# Create a lensing image to make the fit - the mask we used above was a 3\" circle (we'll come back to this later)\n",
    "mask = ma.Mask.circular(shape=image.shape, pixel_scale=image.pixel_scale, radius_mask_arcsec=3.0)\n",
    "lensing_image = li.LensingImage(image=image, mask=mask)\n",
    "imaging_plotters.plot_image(lensing_image.image)\n",
    "\n",
    "# Make the tracer we use to simulate the image\n",
    "lens_galaxy = g.Galaxy(light=lp.EllipticalSersic(centre=(0.0, 0.0), axis_ratio=0.9, phi=45.0, intensity=0.04,\n",
    "                                                         effective_radius=0.5, sersic_index=3.5),\n",
    "                       mass=mp.EllipticalIsothermal(centre=(0.0, 0.0), axis_ratio=0.8, phi=45.0, einstein_radius=0.8))\n",
    "\n",
    "source_galaxy = g.Galaxy(light=lp.EllipticalSersic(centre=(0.0, 0.0), axis_ratio=0.5, phi=90.0, intensity=0.03,\n",
    "                                                   effective_radius=0.3, sersic_index=3.0))\n",
    "tracer = ray_tracing.TracerImageSourcePlanes(lens_galaxies=[lens_galaxy], source_galaxies=[source_galaxy],\n",
    "                                             image_plane_grids=lensing_image.grids)"
   ]
  },
  {
   "cell_type": "code",
   "execution_count": null,
   "metadata": {},
   "outputs": [],
   "source": [
    "# Now, lets fit the lensing image with the tracer and plot the fit. It looks a lot better than above, doesn't it?\n",
    "fit = fitting.fit_lensing_image_with_tracer(lensing_image=lensing_image, tracer=tracer)\n",
    "fitting_plotters.plot_fitting(fit=fit)"
   ]
  },
  {
   "cell_type": "code",
   "execution_count": null,
   "metadata": {},
   "outputs": [],
   "source": [
    "# Finally, just to be sure, lets compare the two likelihoods\n",
    "print('Likelihood of Non-linear Search:')\n",
    "print(results.fit.likelihood)\n",
    "print('Likelihood of Correct Model:')\n",
    "print(fit.likelihood)\n",
    "\n",
    "# Well, there we have it, the input model has a much higher likelihood than the one our non-linear search inferred. "
   ]
  },
  {
   "cell_type": "code",
   "execution_count": null,
   "metadata": {},
   "outputs": [],
   "source": [
    "# Clearly, our non-linear search failed. So, what happened? Where did it all go wrong?\n",
    "\n",
    "# I want you to think about 'complexity'. As we made our lens model more realistic, we also made it more complex. Our\n",
    "# non-linear parameter space went from 7 dimensions to 18. This means there was a much larger 'volume' of parameter\n",
    "# space to search. Maybe, therefore, our non-linear search got lost. It found some region of parameter space that it\n",
    "# thought was the highest likelihood region and decided to focus the rest of its search there. But it was mistaken,\n",
    "# there was infact  another region of parameter space with even higher likelihood solutions.\n",
    "\n",
    "# This region - the one our non-linear search failed to locate - is called the global maximum likelihood region. At its\n",
    "# core, lens modeling is all about learning how to get a non-linear search to find this region of parameter space,\n",
    "# even when the lens model is extremely complex.\n",
    "\n",
    "# Iif you did run the phase above yourself, you might of actually inferred the correct lens model. There is some \n",
    "# level of randomness in a non-linear search. This means that sometimes, it might get infer a locally maximal likelihood,\n",
    "# and other times find the global maxima another. Nevertheless, as lens models become more complex, you'll quickly find\n",
    "# yourself stuck with only in local maxima, unless you learn how to navigate parameter space better."
   ]
  },
  {
   "cell_type": "code",
   "execution_count": null,
   "metadata": {},
   "outputs": [],
   "source": [
    "# And with that, we're done. In the next exercise, we'll learn how to deal with our failures and begin thinking about\n",
    "# how we might encourage a non-linear search to find the global-maximum likelihood. Before that, think about the\n",
    "# following:\n",
    "\n",
    "# 1) When you look at an image of a strong lens, do you get a sense of roughly what values certain lens model\n",
    "#    parameters are?\n",
    "\n",
    "# 2) The non-linear search failed because parameter space was too complex. Could we make it less complex, whilst still\n",
    "#    keeping our lens model fairly realistic?\n",
    "\n",
    "# 3) The source galaxy in this example had only 6 non-linear parameters. Real source galaxies may have multiple\n",
    "#    components (e.g. a bar, disk, bulge, star-forming knot) and there may even be more than 1 source galaxy! Do\n",
    "#    you think there is any hope of us navigating a parameter space if the source contributes 20+ parameters by itself?"
   ]
  }
 ],
 "metadata": {
  "kernelspec": {
   "display_name": "Python 2",
   "language": "python",
   "name": "python2"
  },
  "language_info": {
   "codemirror_mode": {
    "name": "ipython",
    "version": 2
   },
   "file_extension": ".py",
   "mimetype": "text/x-python",
   "name": "python",
   "nbconvert_exporter": "python",
   "pygments_lexer": "ipython2",
   "version": "2.7.6"
  }
 },
 "nbformat": 4,
 "nbformat_minor": 0
}
