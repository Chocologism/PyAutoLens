{
 "cells": [
  {
   "cell_type": "code",
   "execution_count": null,
   "metadata": {
    "collapsed": true
   },
   "outputs": [],
   "source": [
    "from autolens.autofit import non_linear\n",
    "from autolens.autofit import model_mapper\n",
    "from autolens.pipeline import phase as ph\n",
    "from autolens.lensing import galaxy_model as gm\n",
    "from autolens.imaging import image as im\n",
    "from autolens.imaging import mask\n",
    "from autolens.profiles import light_profiles as lp\n",
    "from autolens.profiles import mass_profiles as mp\n",
    "from autolens.plotting import imaging_plotters\n",
    "from autolens.plotting import fitting_plotters\n",
    "\n",
    "# In this example, we're going to take an image and find a lens model that provides a good fit to it and we're going \n",
    "# to do this without any knowledge of what the 'correct' lens model is. \n",
    "\n",
    "# So, what do I mean by a 'lens model'? The lens model is the combination of light profiles and mass profiles we use to \n",
    "# represent lens galaxy, source galaxy and therefore create a tracer. Thus, to begin, we have to choose the \n",
    "# parametrization of our lens model. We don't need to specify the values of its light and mass profiles (e.g. the\n",
    "# centre, einstein_radius, etc.) - only the profiles are. In this example, we'll use the following lens model:\n",
    "\n",
    "# 1) A spherical Isothermal Sphere (SIS) for the lens galaxy's mass.\n",
    "# 2) A spherical exponential light profile for the source galaxy's light.\n",
    "\n",
    "# I'll let you into a secret - this is the same lens model that I used to simulate the image we'll fit (but I'm not\n",
    "# going to tell you the actual parameters I used!).\n",
    "\n",
    "# So, how do we infer these parameters? Well, we could randomly guess a lens model, corresponding to some\n",
    "# random set of parameters. We could use this lens model to create a tracer and fit the image-data, and quantify how\n",
    "# good the fit was using its likelihood (we inspected this in previous tutorial). If we kept guessing lens\n",
    "# models, eventually we'd find one that provides a good fit (i.e. high likelihood) to the data!\n",
    "\n",
    "# It may sound nuts, but this is actually the basis of how lens modeling works. However, we do a lot better than\n",
    "# random guessing. Instead, we track the likelihood of our previous guesses, and guess more models using combinations\n",
    "# of parameters that gave higher likelihood solutions previously. The idea is that if a set of parameters provided a \n",
    "# good fit to the data, another set with similar values probably will too.\n",
    "\n",
    "# This is called 'non-linear search' and its a fairly common analysis found in science. Over the next few tutorials, \n",
    "# we're going to really get our heads around the concept of a non-linear search - this intuition will prove crucial \n",
    "# in being a successful lens modeler.\n",
    "\n",
    "# We're going to use a non-linear search called 'MultiNest'. I highly recommend it, and find its great for lens \n",
    "# modeling. However, for now, lets not worry about the details of how MultiNest actually works. Instead, just\n",
    "# picture that a non-linear search in PyAutoLens operates as follows:\n",
    "\n",
    "# 1) Randomly guess a lens model and use its light-profiles and mass-profiles to set up a lens galaxy, source galaxy \n",
    "#    and a tracer.\n",
    "\n",
    "# 2) Pass this tracer through the fitting module, generating a model image and comparing this model image to the\n",
    "#    observed strong lens imaging data. This means that we've computed a likelihood.\n",
    "\n",
    "# 3) Repeat this many times, using the likelihoods of previous fits (typically those with a high likelihood) to\n",
    "#    guide us to the lens models with the highest liikelihood."
   ]
  },
  {
   "cell_type": "code",
   "execution_count": null,
   "metadata": {},
   "outputs": [],
   "source": [
    "# So, lets get on with it! In the file 'simulations', we've simulated the image we'll fit in this example.\n",
    "# Don't look at this file yet - lets keep the lens model's input parameters unknown.\n",
    "\n",
    "path = 'path/to/AutoLens/howtolens/1_modeling'\n",
    "path = '/home/jammy/PyCharm/Projects/AutoLens/howtolens/1_modeling'\n",
    "image = im.load_imaging_from_path(image_path=path + '/data/1_non_linear_search_image.fits',\n",
    "                                  noise_map_path=path+'/data/1_non_linear_search_noise_map.fits',\n",
    "                                  psf_path=path + '/data/1_non_linear_search_psf.fits', pixel_scale=0.1)\n",
    "imaging_plotters.plot_image(image=image)"
   ]
  },
  {
   "cell_type": "code",
   "execution_count": null,
   "metadata": {},
   "outputs": [],
   "source": [
    "# A GalaxyModel behaves analogously to the Galaxy objects we're now used to. However, whereas for a Galaxy we\n",
    "# manually specified the value of every parameter of its light-profiles and mass-profiles, for a GalaxyModel\n",
    "# these are inferred by the non-linear search.\n",
    "\n",
    "# Lets model the lens galaxy with an SIS mass profile (which is what it was simulated with).\n",
    "lens_galaxy_model = gm.GalaxyModel(mass=mp.SphericalIsothermal)"
   ]
  },
  {
   "cell_type": "code",
   "execution_count": null,
   "metadata": {},
   "outputs": [],
   "source": [
    "# Lets model the source galaxy with a spherical exponential light profile (again, what it was simulated with).\n",
    "source_galaxy_model = gm.GalaxyModel(light=lp.SphericalExponential)"
   ]
  },
  {
   "cell_type": "code",
   "execution_count": null,
   "metadata": {},
   "outputs": [],
   "source": [
    "# A phase takes our galaxy models and fits their parameters via a non-linear search (in this case, MultiNest). In this\n",
    "# example, we have a lens-plane and source-plane, so we use a LensSourcePlanePhase.\n",
    "phase = ph.LensSourcePlanePhase(lens_galaxies=[lens_galaxy_model], source_galaxies=[source_galaxy_model],\n",
    "                                optimizer_class=non_linear.MultiNest, phase_name='howtolens/1_non_linear_search')"
   ]
  },
  {
   "cell_type": "code",
   "execution_count": null,
   "metadata": {},
   "outputs": [],
   "source": [
    "# To run the phase, we simply pass it the image data we want to fit, and the non-linear search begins! As the phase\n",
    "# runs, a logger will show you the parameters of the best-fit model.\n",
    "results = phase.run(image)"
   ]
  },
  {
   "cell_type": "code",
   "execution_count": null,
   "metadata": {},
   "outputs": [],
   "source": [
    "\n",
    "# Whilst it is running (which should only take a few minutes), you should checkout the 'AutoLens/output/howtolens'\n",
    "# folder. This is where the results of the phase are written to your hard-disk (in the '1_non_linear_search'\n",
    "# folder). When its completed, images and output will also appear in this folder, meaning that you don't need to keep \n",
    "# running python code to see the results.\n",
    "\n",
    "# We can print the results to see the best-fit model parameters\n",
    "print(results) # NOTE - this isn't working yet, need to sort out."
   ]
  },
  {
   "cell_type": "code",
   "execution_count": null,
   "metadata": {},
   "outputs": [],
   "source": [
    "# The best-fit solution (i.e. the highest likelihood) is stored in the 'results', which we can plot as per usual.\n",
    "fitting_plotters.plot_fitting(fit=results.fit)"
   ]
  },
  {
   "cell_type": "code",
   "execution_count": null,
   "metadata": {},
   "outputs": [],
   "source": [
    "# The fit looks good, and we've therefore found a model pretty close to the one we simulated the image with (you can \n",
    "# confirm this yourself if you want, by comparing the inferred parameters to those found in the simulations.py file).\n",
    "\n",
    "# And with that, we're done - you've successfully modeled your first strong lens with PyAutoLens! Before moving\n",
    "# onto the next tutorial, I want you to think about the following:\n",
    "\n",
    "# 1) a non-linear search is often said to search a 'non-linear parameter-space' - why is the term parameter-space used?\n",
    "\n",
    "# 2) Why is this parameter space 'non-linear'?\n",
    "\n",
    "# 3) Initially, the non-linear search randomly guesses the values of the parameters. However, it shouldn't 'know' what\n",
    "#    reasonable values for a parameter are. For example, it doesn't know that a reasonable Einstein radius is between \n",
    "#    0.0\" and 4.0\"). How does it know what are reasonable values of parameters to guess?"
   ]
  }
 ],
 "metadata": {
  "kernelspec": {
   "display_name": "Python 2",
   "language": "python",
   "name": "python2"
  },
  "language_info": {
   "codemirror_mode": {
    "name": "ipython",
    "version": 2
   },
   "file_extension": ".py",
   "mimetype": "text/x-python",
   "name": "python",
   "nbconvert_exporter": "python",
   "pygments_lexer": "ipython2",
   "version": "2.7.6"
  }
 },
 "nbformat": 4,
 "nbformat_minor": 0
}
