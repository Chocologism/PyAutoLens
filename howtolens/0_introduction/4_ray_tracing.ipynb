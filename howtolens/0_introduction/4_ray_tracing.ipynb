{
 "cells": [
  {
   "cell_type": "code",
   "execution_count": 1,
   "metadata": {
    "collapsed": true
   },
   "outputs": [],
   "source": [
    "from autolens.profiles import mass_profiles\n",
    "from autolens.profiles import light_profiles\n",
    "from autolens.lensing import galaxy\n",
    "from autolens.lensing import ray_tracing\n",
    "from autolens.imaging import mask\n",
    "from autolens.plotting import profile_plotters\n",
    "from autolens.plotting import plane_plotters\n",
    "from autolens.plotting import ray_tracing_plotters\n",
    "\n",
    "# In this example, we'll use 'mass_profiles', 'light_profiles' and 'galaxy', along with the 'ray-tracing' \n",
    "# module, to perform ray-tracing of a lens-plane + source-plane strong lens configuration, where:\n",
    "# 1) The lens galaxy has an isothermal mass distribution\n",
    "# 2) The source galaxy has a Sersic surface brightness."
   ]
  },
  {
   "cell_type": "code",
   "execution_count": 2,
   "metadata": {},
   "outputs": [],
   "source": [
    "# Same grid as always, you should be used to seeing this now!\n",
    "image_plane_grids = mask.ImagingGrids.from_shape_and_pixel_scale(shape=(100, 100), pixel_scale=0.05, \n",
    "                                                                 sub_grid_size=2)"
   ]
  },
  {
   "cell_type": "code",
   "execution_count": 2,
   "metadata": {},
   "outputs": [
    {
     "ename": "NameError",
     "evalue": "name 'mass_profiles' is not defined",
     "traceback": [
      "\u001b[0;31m---------------------------------------------------------------------------\u001b[0m",
      "\u001b[0;31mNameError\u001b[0m                                 Traceback (most recent call last)",
      "\u001b[0;32m<ipython-input-2-762245e35d66>\u001b[0m in \u001b[0;36m<module>\u001b[0;34m()\u001b[0m\n\u001b[1;32m      1\u001b[0m \u001b[0;31m# Lets use the same sis mass-profile from the previous example, but also create our lens_galaxy\u001b[0m\u001b[0;34m\u001b[0m\u001b[0;34m\u001b[0m\u001b[0m\n\u001b[1;32m      2\u001b[0m \u001b[0;31m# by passing it through the 'galaxy' module.\u001b[0m\u001b[0;34m\u001b[0m\u001b[0;34m\u001b[0m\u001b[0m\n\u001b[0;32m----> 3\u001b[0;31m \u001b[0msis_mass_profile\u001b[0m \u001b[0;34m=\u001b[0m \u001b[0mmass_profiles\u001b[0m\u001b[0;34m.\u001b[0m\u001b[0mSphericalIsothermal\u001b[0m\u001b[0;34m(\u001b[0m\u001b[0mcentre\u001b[0m\u001b[0;34m=\u001b[0m\u001b[0;34m(\u001b[0m\u001b[0;36m0.1\u001b[0m\u001b[0;34m,\u001b[0m \u001b[0;36m0.1\u001b[0m\u001b[0;34m)\u001b[0m\u001b[0;34m,\u001b[0m \u001b[0meinstein_radius\u001b[0m\u001b[0;34m=\u001b[0m\u001b[0;36m1.6\u001b[0m\u001b[0;34m)\u001b[0m\u001b[0;34m\u001b[0m\u001b[0m\n\u001b[0m\u001b[1;32m      4\u001b[0m \u001b[0mlens_galaxy\u001b[0m \u001b[0;34m=\u001b[0m \u001b[0mgalaxy\u001b[0m\u001b[0;34m.\u001b[0m\u001b[0mGalaxy\u001b[0m\u001b[0;34m(\u001b[0m\u001b[0mmass\u001b[0m\u001b[0;34m=\u001b[0m\u001b[0msis_mass_profile\u001b[0m\u001b[0;34m)\u001b[0m\u001b[0;34m\u001b[0m\u001b[0m\n\u001b[1;32m      5\u001b[0m \u001b[0;34m\u001b[0m\u001b[0m\n",
      "\u001b[0;31mNameError\u001b[0m: name 'mass_profiles' is not defined"
     ],
     "output_type": "error"
    }
   ],
   "source": [
    "# Lets use a simple SIS mass profile, and use it to create our lens galaxy.\n",
    "sis_mass_profile = mass_profiles.SphericalIsothermal(centre=(0.1, 0.1), einstein_radius=1.6)\n",
    "lens_galaxy = galaxy.Galaxy(mass=sis_mass_profile)\n",
    "print(lens_galaxy)"
   ]
  },
  {
   "cell_type": "code",
   "execution_count": null,
   "metadata": {},
   "outputs": [],
   "source": [
    "# And lets make our source-galaxy using a Sersic light profile\n",
    "sersic_light_profile = light_profiles.EllipticalSersic(centre=(0.0, 0.0), axis_ratio=0.8, phi=45.0,\n",
    "                                                       intensity=1.0, effective_radius=1.0, sersic_index=2.5)\n",
    "source_galaxy = galaxy.Galaxy(light=sersic_light_profile)\n",
    "print(source_galaxy)"
   ]
  },
  {
   "cell_type": "code",
   "execution_count": null,
   "metadata": {},
   "outputs": [],
   "source": [
    "# Finally, we use the lens galaxy and source galaxy to ray-trace our grids. When we pass our galaxies and grids into the\n",
    "# Tracer below, the following happens:\n",
    "\n",
    "# 1) Using the lens-galaxy's mass-profile, the deflection angle of every image-plane grid coordinate is computed.\n",
    "# 2) These deflection angles are used to trace every image-plane coordinate to a source-plane coordinate.\n",
    "# 3) This creates a source-plane grid of lensed coordinates.\n",
    "\n",
    "# We use the 'ray_tracing' module to perform this operation.\n",
    "tracer = ray_tracing.TracerImageSourcePlanes(lens_galaxies=[lens_galaxy], source_galaxies=[source_galaxy],\n",
    "                                             image_plane_grids=image_plane_grids)\n",
    "\n",
    "# The tracer is composed of two planes and printing their grids shows that the source-plane's grid has been deflected.\n",
    "print('Image-pixel 1 image-plane coordinate')\n",
    "print(tracer.image_plane.grids.image[0])\n",
    "print('Image-pixel 1 source-plane coordinate')\n",
    "print(tracer.source_plane.grids.image[0])\n",
    "print('Image-pixel 2 image-plane coordinate')\n",
    "print(tracer.image_plane.grids.image[1])\n",
    "print('Image-pixel 2 source-plane coordinate')\n",
    "print(tracer.source_plane.grids.image[1])\n",
    "print('Image-pixel 3 image-plane coordinate')\n",
    "print(tracer.image_plane.grids.image[2])\n",
    "print('Image-pixel 3 source-plane coordinate')\n",
    "print(tracer.source_plane.grids.image[2])\n",
    "# etc.\n",
    "\n"
   ]
  },
  {
   "cell_type": "code",
   "execution_count": null,
   "metadata": {},
   "outputs": [],
   "source": [
    "# We can use the plane_plotter to plot these grids.\n",
    "# The image grid is simply a 100 x 100 uniform grid of coordinates.\n",
    "plane_plotters.plot_plane_grid(plane=tracer.image_plane)\n",
    "# Clearly, the source-plane grid has been lensed\n",
    "plane_plotters.plot_plane_grid(plane=tracer.source_plane)\n",
    "# We can zoom in on the 'centre' of the source-plane (remembering the lens galaxy was centred at (0.1, 0.1)\n",
    "plane_plotters.plot_plane_grid(plane=tracer.source_plane, xmin=-0.1, xmax=0.3, ymin=-0.1, ymax=0.3)"
   ]
  },
  {
   "cell_type": "code",
   "execution_count": null,
   "metadata": {},
   "outputs": [],
   "source": [
    "# AutoLens has tools for plotting a tracer. This plots the following:\n",
    "# 1) The image-plane image, computed by tracing the source galaxy's light 'forwards' through the tracer.\n",
    "# 2) The source-plane image, showing the source galaxy's true appearance (i.e. if it were not lensed).\n",
    "# 3) The image-plane surface density, computed using the lens galaxy's mass profile.\n",
    "# 4) The image-plane gravitational potential, computed using the lens galaxy's mass profile.\n",
    "# 5) The image-plane deflection angles, computed using the lens galaxy's mass profile.\n",
    "ray_tracing_plotters.plot_ray_tracing(tracer=tracer)"
   ]
  },
  {
   "cell_type": "code",
   "execution_count": null,
   "metadata": {},
   "outputs": [],
   "source": [
    "# These attributes can be assessed by print statements (Which you might notice have been converted to 2D NumPy arrays which \n",
    "# are the same dimensions as our input image!).\n",
    "print('Image-Pixel 1 - Surface Density:')\n",
    "print(tracer.surface_density[0,0])\n",
    "print('Image-Pixel 2 - Surface Density:')\n",
    "print(tracer.surface_density[0,1])\n",
    "print('Image-Pixel 3 - Surface Density:')\n",
    "print(tracer.surface_density[0,2])\n",
    "print('Image-Pixel 101 - Surface Density:')\n",
    "print(tracer.surface_density[1,0])\n",
    "\n",
    "# I've left the rest below commented to avoid too much printing, but you can inspect their data if you please!\n",
    "# print('Potential:')\n",
    "# print(tracer.potential)\n",
    "# print('Deflections:')\n",
    "# print(tracer.deflections_x)\n",
    "# print(tracer.deflections_y)\n",
    "# print('Image-plane Image:')\n",
    "# print(tracer.image_plane_image)\n",
    "# print('Source-plane Image:')\n",
    "# print(tracer.source_plane_image)"
   ]
  },
  {
   "cell_type": "code",
   "execution_count": null,
   "metadata": {},
   "outputs": [],
   "source": [
    "# You can plot the above attributes on individual figures, using the 'individual' ray_tracing_plotter\n",
    "ray_tracing_plotters.plot_ray_tracing_individual(tracer=tracer, plot_image_plane_image=True, plot_source_plane=True,\n",
    "                                                 plot_surface_density=False, plot_potential=False, \n",
    "                                                 plot_deflections=True)"
   ]
  },
  {
   "cell_type": "code",
   "execution_count": null,
   "metadata": {},
   "outputs": [],
   "source": [
    "# And with that, we're done. You've performed your first actual lensing with PyAutoLens!\n",
    "\n",
    "# 1) Change the lens galaxy's einstein radius - what happens to the tracer's image-plane image?\n",
    "# 2) Change the source galaxy's effective radius - how does the image-plane image's appearance change?\n",
    "# 3) Experiment with different light-profiles and mass-profiles. In particular, change the SphericalIsothermal\n",
    "#    mass-profile to an EllipticalIsothermal mass-profile and set its axis_ratio parameter to 0.8. What\n",
    "#    happens to the number of source images?"
   ]
  }
 ],
 "metadata": {
  "kernelspec": {
   "display_name": "Python 2",
   "language": "python",
   "name": "python2"
  },
  "language_info": {
   "codemirror_mode": {
    "name": "ipython",
    "version": 2
   },
   "file_extension": ".py",
   "mimetype": "text/x-python",
   "name": "python",
   "nbconvert_exporter": "python",
   "pygments_lexer": "ipython2",
   "version": "2.7.6"
  }
 },
 "nbformat": 4,
 "nbformat_minor": 0
}
