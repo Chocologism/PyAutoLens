{
 "cells": [
  {
   "cell_type": "code",
   "execution_count": 1,
   "metadata": {
    "collapsed": true
   },
   "outputs": [],
   "source": [
    "from autolens.profiles import mass_profiles\n",
    "from autolens.lensing import galaxy\n",
    "from autolens.imaging import mask\n",
    "from autolens.plotting import imaging_plotters\n",
    "\n",
    "# In this example, we'll create a grid of Cartesian (x,y) coordinates, representing the\n",
    "# arc second coordinate grid of an observed image. "
   ]
  },
  {
   "cell_type": "code",
   "execution_count": 2,
   "metadata": {},
   "outputs": [
    {
     "ename": "TypeError",
     "evalue": "not enough arguments: expected 3, got 2",
     "traceback": [
      "\u001b[0;31m---------------------------------------------------------------------------\u001b[0m",
      "\u001b[0;31mTypeError\u001b[0m                                 Traceback (most recent call last)",
      "\u001b[0;32m<ipython-input-2-2702e6b6e900>\u001b[0m in \u001b[0;36m<module>\u001b[0;34m()\u001b[0m\n\u001b[1;32m      6\u001b[0m \u001b[0;31m# conversion factor) of 0.05\", giving us a a 5\" x 5\" grid.\u001b[0m\u001b[0;34m\u001b[0m\u001b[0;34m\u001b[0m\u001b[0m\n\u001b[1;32m      7\u001b[0m image_grids = mask.ImagingGrids.from_shape_and_pixel_scale(shape=(100, 100), pixel_scale=0.05, \n\u001b[0;32m----> 8\u001b[0;31m                                                                  sub_grid_size=2)\n\u001b[0m\u001b[1;32m      9\u001b[0m \u001b[0;34m\u001b[0m\u001b[0m\n\u001b[1;32m     10\u001b[0m \u001b[0;31m# If we print the grid, we see it consists of a set of arc-second coordinates\u001b[0m\u001b[0;34m\u001b[0m\u001b[0;34m\u001b[0m\u001b[0m\n",
      "\u001b[0;32m~/PyCharm/Projects/AutoLens/autolens/imaging/mask.py\u001b[0m in \u001b[0;36mfrom_shape_and_pixel_scale\u001b[0;34m(cls, shape, pixel_scale, sub_grid_size, psf_shape)\u001b[0m\n\u001b[1;32m    215\u001b[0m     \u001b[0;34m@\u001b[0m\u001b[0mclassmethod\u001b[0m\u001b[0;34m\u001b[0m\u001b[0m\n\u001b[1;32m    216\u001b[0m     \u001b[0;32mdef\u001b[0m \u001b[0mfrom_shape_and_pixel_scale\u001b[0m\u001b[0;34m(\u001b[0m\u001b[0mcls\u001b[0m\u001b[0;34m,\u001b[0m \u001b[0mshape\u001b[0m\u001b[0;34m,\u001b[0m \u001b[0mpixel_scale\u001b[0m\u001b[0;34m,\u001b[0m \u001b[0msub_grid_size\u001b[0m\u001b[0;34m=\u001b[0m\u001b[0;36m2\u001b[0m\u001b[0;34m,\u001b[0m \u001b[0mpsf_shape\u001b[0m\u001b[0;34m=\u001b[0m\u001b[0;34m(\u001b[0m\u001b[0;36m1\u001b[0m\u001b[0;34m,\u001b[0m \u001b[0;36m1\u001b[0m\u001b[0;34m)\u001b[0m\u001b[0;34m)\u001b[0m\u001b[0;34m:\u001b[0m\u001b[0;34m\u001b[0m\u001b[0m\n\u001b[0;32m--> 217\u001b[0;31m         \u001b[0mimage_grid\u001b[0m \u001b[0;34m=\u001b[0m \u001b[0mImageGrid\u001b[0m\u001b[0;34m.\u001b[0m\u001b[0mfrom_shape_and_pixel_scale\u001b[0m\u001b[0;34m(\u001b[0m\u001b[0mshape\u001b[0m\u001b[0;34m=\u001b[0m\u001b[0mshape\u001b[0m\u001b[0;34m,\u001b[0m \u001b[0mpixel_scale\u001b[0m\u001b[0;34m=\u001b[0m\u001b[0mpixel_scale\u001b[0m\u001b[0;34m)\u001b[0m\u001b[0;34m\u001b[0m\u001b[0m\n\u001b[0m\u001b[1;32m    218\u001b[0m         sub_grid = SubGrid.from_shape_pixel_scale_and_sub_grid_size(shape=shape, pixel_scale=pixel_scale,\n\u001b[1;32m    219\u001b[0m                                                                     sub_grid_size=sub_grid_size)\n",
      "\u001b[0;32m~/PyCharm/Projects/AutoLens/autolens/imaging/mask.py\u001b[0m in \u001b[0;36mfrom_shape_and_pixel_scale\u001b[0;34m(cls, shape, pixel_scale)\u001b[0m\n\u001b[1;32m    352\u001b[0m     \u001b[0;32mdef\u001b[0m \u001b[0mfrom_shape_and_pixel_scale\u001b[0m\u001b[0;34m(\u001b[0m\u001b[0mcls\u001b[0m\u001b[0;34m,\u001b[0m \u001b[0mshape\u001b[0m\u001b[0;34m,\u001b[0m \u001b[0mpixel_scale\u001b[0m\u001b[0;34m)\u001b[0m\u001b[0;34m:\u001b[0m\u001b[0;34m\u001b[0m\u001b[0m\n\u001b[1;32m    353\u001b[0m         \u001b[0mmask\u001b[0m \u001b[0;34m=\u001b[0m \u001b[0mMask\u001b[0m\u001b[0;34m.\u001b[0m\u001b[0munmasked_for_shape_and_pixel_scale\u001b[0m\u001b[0;34m(\u001b[0m\u001b[0mshape\u001b[0m\u001b[0;34m=\u001b[0m\u001b[0mshape\u001b[0m\u001b[0;34m,\u001b[0m \u001b[0mpixel_scale\u001b[0m\u001b[0;34m=\u001b[0m\u001b[0mpixel_scale\u001b[0m\u001b[0;34m)\u001b[0m\u001b[0;34m\u001b[0m\u001b[0m\n\u001b[0;32m--> 354\u001b[0;31m         \u001b[0marray\u001b[0m \u001b[0;34m=\u001b[0m \u001b[0mimaging_util\u001b[0m\u001b[0;34m.\u001b[0m\u001b[0mimage_grid_1d_masked_from_mask_and_pixel_scales\u001b[0m\u001b[0;34m(\u001b[0m\u001b[0mmask\u001b[0m\u001b[0;34m=\u001b[0m\u001b[0mmask\u001b[0m\u001b[0;34m,\u001b[0m \u001b[0mpixel_scales\u001b[0m\u001b[0;34m=\u001b[0m\u001b[0mmask\u001b[0m\u001b[0;34m.\u001b[0m\u001b[0mpixel_scales\u001b[0m\u001b[0;34m)\u001b[0m\u001b[0;34m\u001b[0m\u001b[0m\n\u001b[0m\u001b[1;32m    355\u001b[0m         \u001b[0;32mreturn\u001b[0m \u001b[0mcls\u001b[0m\u001b[0;34m(\u001b[0m\u001b[0marray\u001b[0m\u001b[0;34m,\u001b[0m \u001b[0mmask\u001b[0m\u001b[0;34m.\u001b[0m\u001b[0mpixel_scale\u001b[0m\u001b[0;34m,\u001b[0m \u001b[0mmask\u001b[0m\u001b[0;34m.\u001b[0m\u001b[0mshape\u001b[0m\u001b[0;34m,\u001b[0m \u001b[0mmask\u001b[0m\u001b[0;34m.\u001b[0m\u001b[0mgrid_to_pixel\u001b[0m\u001b[0;34m)\u001b[0m\u001b[0;34m\u001b[0m\u001b[0m\n\u001b[1;32m    356\u001b[0m \u001b[0;34m\u001b[0m\u001b[0m\n",
      "\u001b[0;31mTypeError\u001b[0m: not enough arguments: expected 3, got 2"
     ],
     "output_type": "error"
    }
   ],
   "source": [
    "# In AutoLens, a grid is a set of two-dimensional (x,y) coordinates (in arc-seconds) that are deflected \n",
    "# and traced by a strong lensing system. \n",
    "\n",
    "# This coordinate grid is aligned with the image we analyze, thus each coordinate maps to the centre of \n",
    "# each image-pixel. Lets make a grid using a 100 x 100 pixel image, with a pixel scale (arcsecond-to-pixel \n",
    "# conversion factor) of 0.05\", giving us a a 5\" x 5\" grid. \n",
    "image_grids = mask.ImagingGrids.from_shape_and_pixel_scale(shape=(100, 100), pixel_scale=0.05, \n",
    "                                                                 sub_grid_size=2)\n",
    "\n",
    "# If we print the grid, we see it consists of a set of arc-second coordinates \n",
    "# (noting that the difference between each coordinate is the 'pixel_scale' of 0.05\" defined above)\n",
    "print('(x,y) image-pixel 1:')\n",
    "print(image_grids.image[0])\n",
    "print('(x,y) image-pixel 2:')\n",
    "print(image_grids.image[1])\n",
    "print('(x,y) image-pixel 3:')\n",
    "print(image_grids.image[2])\n",
    "print('(x,y) image-pixel 101:')\n",
    "print(image_grids.image[100])\n",
    "print('etc.')\n"
   ]
  },
  {
   "cell_type": "code",
   "execution_count": 3,
   "metadata": {},
   "outputs": [
    {
     "name": "stdout",
     "output_type": "stream",
     "text": [
      "(10000, 2)\n"
     ]
    }
   ],
   "source": [
    "# (PyAutoLens actually flattens the NumPy array to 1D to save memory, however it consists of all \n",
    "# 10000 pixel coordinates on our 2D grid)\n",
    "print(image_grids.image.shape)"
   ]
  },
  {
   "cell_type": "code",
   "execution_count": 4,
   "metadata": {},
   "outputs": [
    {
     "data": {
      "image/png": "[encoded data removed]",
      "text/plain": [
       "<Figure size 432x288 with 1 Axes>"
      ]
     },
     "metadata": {},
     "output_type": "display_data"
    }
   ],
   "source": [
    "# We can also plot the grid, albeit it's a fairly bland uniform grid of dots.\n",
    "imaging_plotters.plot_grid(grid=image_grids.image)"
   ]
  },
  {
   "cell_type": "code",
   "execution_count": 5,
   "metadata": {},
   "outputs": [
    {
     "name": "stdout",
     "output_type": "stream",
     "text": [
      "(10000, 2)\n(40000, 2)\n"
     ]
    }
   ],
   "source": [
    "# You might be wondering why the image_grids are using the attribute 'image' (e.g. image_grids.image).\n",
    "\n",
    "# This is because it consists of multiple grids. The 'image' grid is the grid where each (x,y) coordinate is located at \n",
    "# the centre of each image pixel.\n",
    "\n",
    "# There is also a sub-grid, which splits each image-pixel into a (sub_grid_size x sub_grid_size) pixel. This is\n",
    "# used for evaluating light and mass profiles at a higher resolution and thus more accurately.\n",
    "\n",
    "# We specified a sub_grid_size of 2 above, therefore we expect 4 (2 x 2) times more sub-pixels than image-pixels (still \n",
    "# flattened to 1D).\n",
    "print(image_grids.image.shape)\n",
    "print(image_grids.sub.shape)"
   ]
  },
  {
   "cell_type": "code",
   "execution_count": 7,
   "metadata": {},
   "outputs": [
    {
     "name": "stdout",
     "output_type": "stream",
     "text": [
      "(x,y) sub-pixel 1 (of image pixel 1):\n[-2.48333333 -2.48333333]\n(x,y) sub-pixel 2 (of image pixel 1):\n[-2.48333333 -2.46666667]\n(x,y) sub-pixel 3 (of image pixel 1):\n[-2.46666667 -2.48333333]\n(x,y) sub-pixel 4 (of image pixel 1):\n[-2.46666667 -2.46666667]\n(x,y) sub-pixel 1 (of image pixel 2):\n[-2.46666667 -2.46666667]\netc.\n"
     ]
    }
   ],
   "source": [
    "# The sub-pixels coordinates can also be printed:\n",
    "print('(x,y) sub-pixel 1 (of image pixel 1):')\n",
    "print(image_grids.sub[0])\n",
    "print('(x,y) sub-pixel 2 (of image pixel 1):')\n",
    "print(image_grids.sub[1])\n",
    "print('(x,y) sub-pixel 3 (of image pixel 1):')\n",
    "print(image_grids.sub[2])\n",
    "print('(x,y) sub-pixel 4 (of image pixel 1):')\n",
    "print(image_grids.sub[3])\n",
    "print('(x,y) sub-pixel 1 (of image pixel 2):')\n",
    "print(image_grids.sub[3])\n",
    "print('etc.')"
   ]
  },
  {
   "cell_type": "code",
   "execution_count": 10,
   "metadata": {},
   "outputs": [],
   "source": [
    "# Congratulations, you've completed your first PyAutoLens tutorial! Before moving on to the next one, experiment with\n",
    "# PyAutoLens by doing the following:\n",
    "#\n",
    "# 1) Change the pixel-scale of the grid - what happens to the Cartesian coordinates?\n",
    "# 2) Change the resolution of the grid - what happens Cartesian coordinates?\n",
    "# 3) Change the sub-grid size - what do you note about the pixel-scale of sub pixels?"
   ]
  },
  {
   "cell_type": "code",
   "execution_count": null,
   "metadata": {},
   "outputs": [],
   "source": []
  }
 ],
 "metadata": {
  "kernelspec": {
   "display_name": "Python 2",
   "language": "python",
   "name": "python2"
  },
  "language_info": {
   "codemirror_mode": {
    "name": "ipython",
    "version": 2
   },
   "file_extension": ".py",
   "mimetype": "text/x-python",
   "name": "python",
   "nbconvert_exporter": "python",
   "pygments_lexer": "ipython2",
   "version": "2.7.6"
  }
 },
 "nbformat": 4,
 "nbformat_minor": 0
}
