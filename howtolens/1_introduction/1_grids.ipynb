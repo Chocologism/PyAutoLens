{
 "cells": [
  {
   "cell_type": "code",
   "execution_count": 1,
   "metadata": {
    "collapsed": true
   },
   "outputs": [],
   "source": [
    "from autolens.profiles import mass_profiles\n",
    "from autolens.lensing import galaxy\n",
    "from autolens.imaging import mask\n",
    "from autolens.plotting import plotters\n",
    "\n",
    "# In this example, we'll create a grid of Cartesian (y,x) coordinates, representing the\n",
    "# arc second coordinate grid of an observed image. "
   ]
  },
  {
   "cell_type": "code",
   "execution_count": 3,
   "metadata": {},
   "outputs": [
    {
     "name": "stdout",
     "output_type": "stream",
     "text": [
      "(y,x) image-pixel 1:\n[ 0.225 -2.475]\n(y,x) image-pixel 2:\n[ 0.225 -2.425]\n(y,x) image-pixel 3:\n[ 0.225 -2.375]\n(y,x) image-pixel 101:\n[ 0.175 -2.475]\netc.\n"
     ]
    }
   ],
   "source": [
    "# In AutoLens, a grid is a set of two-dimensional (y,x) coordinates (in arc-seconds) that are deflected \n",
    "# and traced by a strong lensing system. \n",
    "\n",
    "# This coordinate grid is aligned with the image we analyze, thus each coordinate maps to the centre of \n",
    "# each image-pixel. Lets make a grid using a 100 x 100 pixel image, with a pixel scale (arcsecond-to-pixel \n",
    "# conversion factor) of 0.05\", giving us a a 5\" x 5\" grid. \n",
    "image_grids = mask.ImagingGrids.from_shape_and_pixel_scale(shape=(10, 100), pixel_scale=0.05, \n",
    "                                                                 sub_grid_size=2)\n",
    "\n",
    "# If we print the grid, we see it consists of a set of arc-second coordinates \n",
    "# (noting that the difference between each coordinate is the 'pixel_scale' of 0.05\" defined above)\n",
    "print('(y,x) image-pixel 1:')\n",
    "print(image_grids.image[0])\n",
    "print('(y,x) image-pixel 2:')\n",
    "print(image_grids.image[1])\n",
    "print('(y,x) image-pixel 3:')\n",
    "print(image_grids.image[2])\n",
    "print('(y,x) image-pixel 101:')\n",
    "print(image_grids.image[100])\n",
    "print('etc.')\n"
   ]
  },
  {
   "cell_type": "code",
   "execution_count": 4,
   "metadata": {},
   "outputs": [
    {
     "name": "stdout",
     "output_type": "stream",
     "text": [
      "(1000, 2)\n"
     ]
    }
   ],
   "source": [
    "# (PyAutoLens actually flattens the NumPy array to 1D to save memory, however it consists of all \n",
    "# 10000 pixel coordinates on our 2D grid)\n",
    "print(image_grids.image.shape)"
   ]
  },
  {
   "cell_type": "code",
   "execution_count": 5,
   "metadata": {},
   "outputs": [
    {
     "data": {
      "image/png": "[encoded data removed]",
      "text/plain": [
       "<Figure size 864x576 with 1 Axes>"
      ]
     },
     "metadata": {},
     "output_type": "display_data"
    }
   ],
   "source": [
    "# We can also plot the grid, albeit it's a fairly bland uniform grid of dots.\n",
    "plotters.plot_grid(grid=image_grids.image)"
   ]
  },
  {
   "cell_type": "code",
   "execution_count": 6,
   "metadata": {},
   "outputs": [
    {
     "data": {
      "image/png": "[encoded data removed]",
      "text/plain": [
       "<Figure size 576x288 with 1 Axes>"
      ]
     },
     "metadata": {},
     "output_type": "display_data"
    }
   ],
   "source": [
    "# A quick aside - we've tried our hardest to make figures like the one above appear a good size / have no overlapping\n",
    "# labels. However, this depends somewhat on the display setting of your computer. If a figure doesn't look great,\n",
    "# You can customize its appearance using standard Matplotlib variables. For example, we can change the grid's appearance\n",
    "# above as follows:\n",
    "\n",
    "plotters.plot_grid(grid=image_grids.image, title='Custom Grid', xlabelsize=20, ylabelsize=20, xyticksize=20, pointsize=14,\n",
    "                   figsize=(8, 4))\n",
    "\n",
    "# You can customize every plotter in AutoLens in this way!\n"
   ]
  },
  {
   "cell_type": "code",
   "execution_count": 7,
   "metadata": {},
   "outputs": [
    {
     "name": "stdout",
     "output_type": "stream",
     "text": [
      "(1000, 2)\n(4000, 2)\n"
     ]
    }
   ],
   "source": [
    "# You might be wondering why the image_grids are using the attribute 'image' (e.g. image_grids.image).\n",
    "\n",
    "# This is because it consists of multiple grids. The 'image' grid is the grid where each (x,y) coordinate is located at \n",
    "# the centre of each image pixel.\n",
    "\n",
    "# There is also a sub-grid, which splits each image-pixel into a (sub_grid_size x sub_grid_size) pixel. This is\n",
    "# used for evaluating light and mass profiles at a higher resolution and thus more accurately.\n",
    "\n",
    "# We specified a sub_grid_size of 2 above, therefore we expect 4 (2 x 2) times more sub-pixels than image-pixels (still \n",
    "# flattened to 1D).\n",
    "print(image_grids.image.shape)\n",
    "print(image_grids.sub.shape)"
   ]
  },
  {
   "cell_type": "code",
   "execution_count": 8,
   "metadata": {},
   "outputs": [
    {
     "name": "stdout",
     "output_type": "stream",
     "text": [
      "(y,x) sub-pixel 1 (of image pixel 1):\n[ 0.23333333 -2.48333333]\n(y,x) sub-pixel 2 (of image pixel 1):\n[ 0.23333333 -2.46666667]\n(y,x) sub-pixel 3 (of image pixel 1):\n[ 0.21666667 -2.48333333]\n(y,x) sub-pixel 4 (of image pixel 1):\n[ 0.21666667 -2.46666667]\n(y,x) sub-pixel 1 (of image pixel 2):\n[ 0.23333333 -2.43333333]\netc.\n"
     ]
    }
   ],
   "source": [
    "# The sub-pixels coordinates can also be printed:\n",
    "print('(y,x) sub-pixel 1 (of image pixel 1):')\n",
    "print(image_grids.sub[0])\n",
    "print('(y,x) sub-pixel 2 (of image pixel 1):')\n",
    "print(image_grids.sub[1])\n",
    "print('(y,x) sub-pixel 3 (of image pixel 1):')\n",
    "print(image_grids.sub[2])\n",
    "print('(y,x) sub-pixel 4 (of image pixel 1):')\n",
    "print(image_grids.sub[3])\n",
    "print('(y,x) sub-pixel 1 (of image pixel 2):')\n",
    "print(image_grids.sub[4])\n",
    "print('etc.')"
   ]
  },
  {
   "cell_type": "code",
   "execution_count": 9,
   "metadata": {},
   "outputs": [],
   "source": [
    "# Congratulations, you've completed your first PyAutoLens tutorial! Before moving on to the next one, experiment with\n",
    "# PyAutoLens by doing the following:\n",
    "#\n",
    "# 1) Change the pixel-scale of the grid - what happens to the Cartesian coordinates?\n",
    "# 2) Change the resolution of the grid - what happens Cartesian coordinates?\n",
    "# 3) Change the sub-grid size - what do you note about the pixel-scale of sub pixels?"
   ]
  },
  {
   "cell_type": "code",
   "execution_count": null,
   "metadata": {},
   "outputs": [],
   "source": []
  }
 ],
 "metadata": {
  "kernelspec": {
   "display_name": "Python 2",
   "language": "python",
   "name": "python2"
  },
  "language_info": {
   "codemirror_mode": {
    "name": "ipython",
    "version": 2
   },
   "file_extension": ".py",
   "mimetype": "text/x-python",
   "name": "python",
   "nbconvert_exporter": "python",
   "pygments_lexer": "ipython2",
   "version": "2.7.6"
  }
 },
 "nbformat": 4,
 "nbformat_minor": 0
}
